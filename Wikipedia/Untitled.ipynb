{
 "cells": [
  {
   "cell_type": "code",
   "execution_count": 1,
   "id": "001c23af-4539-4cbe-8235-7e4107f842bd",
   "metadata": {
    "tags": []
   },
   "outputs": [],
   "source": [
    "import mediawiki"
   ]
  },
  {
   "cell_type": "code",
   "execution_count": 2,
   "id": "22694f61-ccb4-4cfa-b5af-8c17185e98dc",
   "metadata": {
    "tags": []
   },
   "outputs": [],
   "source": [
    "import pandas as pd"
   ]
  },
  {
   "cell_type": "code",
   "execution_count": 3,
   "id": "0a40dc43-c1b1-442e-a45c-85eb53b94e37",
   "metadata": {
    "tags": []
   },
   "outputs": [],
   "source": [
    "import pyarrow"
   ]
  },
  {
   "cell_type": "code",
   "execution_count": 4,
   "id": "5a6edddf-9d0f-46ce-9868-5539b08db7d5",
   "metadata": {
    "tags": []
   },
   "outputs": [],
   "source": [
    "from mediawiki import MediaWiki"
   ]
  },
  {
   "cell_type": "code",
   "execution_count": 9,
   "id": "6ca089c7-f38a-418f-a2d0-6d6bc37b29dd",
   "metadata": {
    "tags": []
   },
   "outputs": [],
   "source": [
    "wikipedia = MediaWiki()"
   ]
  },
  {
   "cell_type": "code",
   "execution_count": 22,
   "id": "097a4e28-27c3-4ee3-8c4b-84024a78e342",
   "metadata": {
    "tags": []
   },
   "outputs": [
    {
     "ename": "IndexError",
     "evalue": "list index out of range",
     "output_type": "error",
     "traceback": [
      "\u001b[1;31m---------------------------------------------------------------------------\u001b[0m",
      "\u001b[1;31mIndexError\u001b[0m                                Traceback (most recent call last)",
      "Cell \u001b[1;32mIn[22], line 1\u001b[0m\n\u001b[1;32m----> 1\u001b[0m search \u001b[38;5;241m=\u001b[39m \u001b[43mwikipedia\u001b[49m\u001b[38;5;241;43m.\u001b[39;49m\u001b[43msearch\u001b[49m\u001b[43m(\u001b[49m\u001b[38;5;124;43m\"\u001b[39;49m\u001b[38;5;124;43mibiprofen\u001b[39;49m\u001b[38;5;124;43m\"\u001b[39;49m\u001b[43m)\u001b[49m\u001b[43m[\u001b[49m\u001b[38;5;241;43m0\u001b[39;49m\u001b[43m]\u001b[49m\n",
      "\u001b[1;31mIndexError\u001b[0m: list index out of range"
     ]
    }
   ],
   "source": [
    "search = wikipedia.search(\"iboprofen\")[0]"
   ]
  },
  {
   "cell_type": "code",
   "execution_count": 26,
   "id": "a3b64605-0bc2-4890-97c4-c511f43aba12",
   "metadata": {
    "tags": []
   },
   "outputs": [],
   "source": [
    "page = wikipedia.page(\"iboprofen\")"
   ]
  }
 ],
 "metadata": {
  "kernelspec": {
   "display_name": "Python 3 (ipykernel)",
   "language": "python",
   "name": "python3"
  },
  "language_info": {
   "codemirror_mode": {
    "name": "ipython",
    "version": 3
   },
   "file_extension": ".py",
   "mimetype": "text/x-python",
   "name": "python",
   "nbconvert_exporter": "python",
   "pygments_lexer": "ipython3",
   "version": "3.10.11"
  }
 },
 "nbformat": 4,
 "nbformat_minor": 5
}
