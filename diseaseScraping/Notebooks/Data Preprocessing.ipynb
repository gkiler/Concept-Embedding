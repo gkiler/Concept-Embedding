{
 "cells": [
  {
   "cell_type": "code",
   "execution_count": 1,
   "id": "1fef9ab7",
   "metadata": {
    "tags": []
   },
   "outputs": [
    {
     "data": {
      "text/plain": [
       "'C:\\\\Users\\\\gwenk\\\\OneDrive\\\\Documents\\\\Research\\\\Scraping\\\\diseaseScraping'"
      ]
     },
     "execution_count": 1,
     "metadata": {},
     "output_type": "execute_result"
    }
   ],
   "source": [
    "import os\n",
    "os.chdir(\"..\")\n",
    "os.getcwd()"
   ]
  },
  {
   "cell_type": "code",
   "execution_count": 2,
   "id": "fb4cf805",
   "metadata": {
    "tags": []
   },
   "outputs": [],
   "source": [
    "import pandas as pd\n",
    "import pyarrow\n",
    "import numpy as np\n",
    "from bs4 import BeautifulSoup"
   ]
  },
  {
   "cell_type": "code",
   "execution_count": 3,
   "id": "3647b1a9-3010-485c-988a-28efdb439e5f",
   "metadata": {
    "tags": []
   },
   "outputs": [
    {
     "name": "stdout",
     "output_type": "stream",
     "text": [
      "['AADA.parquet', 'CanadaPublicHealth.parquet', 'CDC.parquet', 'Cleveland Clinic.parquet', 'Clinical Trials gov.parquet', 'DrugsDOTcom.parquet', 'HealthDirectGovAU.parquet', 'Healthy Western Australians (gov).parquet', 'Hexahealth.parquet', 'IDPH.parquet', 'Mayoclinic.parquet', 'MedlinePlus.parquet', 'Medscape.parquet', 'Merck Manuals.parquet', 'NHS.parquet', 'NHSScot.parquet', 'NIH NINDS.parquet', 'NIH.parquet', 'Rare Diseases NIH.parquet', 'RareDiseases.org.parquet', 'Rheumatology.parquet', 'Seattle Childrens.parquet', 'WebMD.parquet', 'WHO.parquet', 'Wikipedia.parquet', 'Wisconsin Department of Health Services.parquet']\n"
     ]
    }
   ],
   "source": [
    "directory = \"C:\\\\Users\\\\gwenk\\\\OneDrive\\\\Documents\\\\Research\\\\Scraping\\\\diseaseScraping\\\\Diseases\"\n",
    "file_list = [file for file in os.listdir(directory) if file.endswith('.parquet')]\n",
    "print(file_list)"
   ]
  },
  {
   "cell_type": "code",
   "execution_count": 4,
   "id": "aa5f358b-2e30-4395-afe4-742a84320fb2",
   "metadata": {
    "tags": []
   },
   "outputs": [],
   "source": [
    "file_list.remove(\"RareDiseases.org.parquet\")"
   ]
  },
  {
   "cell_type": "code",
   "execution_count": 5,
   "id": "c0c78562",
   "metadata": {
    "tags": []
   },
   "outputs": [],
   "source": [
    "dataframes = []\n",
    "for file in file_list:\n",
    "    file_path = os.path.join(directory, file)\n",
    "    df = pd.read_parquet(file_path,engine='pyarrow')\n",
    "    dataframes.append(df)\n",
    "    \n",
    "df = pd.concat(dataframes, ignore_index=True)"
   ]
  },
  {
   "cell_type": "code",
   "execution_count": 8,
   "id": "d8e786f0-c650-48e2-9818-b9ebf2e70991",
   "metadata": {
    "tags": []
   },
   "outputs": [],
   "source": [
    "df1 = pd.read_parquet(\"drug_data1.parquet\",engine='pyarrow')"
   ]
  },
  {
   "cell_type": "code",
   "execution_count": 6,
   "id": "26ea9a76-84fa-4a3a-b1f8-60526551ae76",
   "metadata": {
    "tags": []
   },
   "outputs": [],
   "source": [
    "df2 = pd.read_parquet(\"drug_data2.parquet\",engine='pyarrow')"
   ]
  },
  {
   "cell_type": "code",
   "execution_count": 9,
   "id": "215fff57-107d-4dce-aa96-0674c9cae4c9",
   "metadata": {
    "tags": []
   },
   "outputs": [],
   "source": [
    "df = pd.concat([df,df1,df2])\n",
    "del df1\n",
    "del df2"
   ]
  },
  {
   "cell_type": "code",
   "execution_count": 10,
   "id": "6102a8c5",
   "metadata": {
    "tags": []
   },
   "outputs": [],
   "source": [
    "df.columns = df.columns.str.lower()\n",
    "\n",
    "df = df.groupby(df.columns, axis=1).first()"
   ]
  },
  {
   "cell_type": "code",
   "execution_count": 11,
   "id": "717665ec-ffda-4db5-97dc-1a405d1583dd",
   "metadata": {
    "tags": []
   },
   "outputs": [
    {
     "data": {
      "text/html": [
       "<div>\n",
       "<style scoped>\n",
       "    .dataframe tbody tr th:only-of-type {\n",
       "        vertical-align: middle;\n",
       "    }\n",
       "\n",
       "    .dataframe tbody tr th {\n",
       "        vertical-align: top;\n",
       "    }\n",
       "\n",
       "    .dataframe thead th {\n",
       "        text-align: right;\n",
       "    }\n",
       "</style>\n",
       "<table border=\"1\" class=\"dataframe\">\n",
       "  <thead>\n",
       "    <tr style=\"text-align: right;\">\n",
       "      <th></th>\n",
       "      <th>date_time_scraped</th>\n",
       "      <th>name</th>\n",
       "      <th>raw_html</th>\n",
       "      <th>source_name</th>\n",
       "      <th>source_url</th>\n",
       "    </tr>\n",
       "  </thead>\n",
       "  <tbody>\n",
       "    <tr>\n",
       "      <th>0</th>\n",
       "      <td>16/05/2023 13:52:52</td>\n",
       "      <td>Acne keloidalis nuchae</td>\n",
       "      <td>&lt;html lang=\"en\"&gt;&lt;head&gt;\\n    &lt;meta charset=\"utf...</td>\n",
       "      <td>AADA</td>\n",
       "      <td>https://www.aad.org/public/diseases/a-z/acne-k...</td>\n",
       "    </tr>\n",
       "    <tr>\n",
       "      <th>1</th>\n",
       "      <td>16/05/2023 13:54:43</td>\n",
       "      <td>Acne scars</td>\n",
       "      <td>&lt;html lang=\"en\"&gt;&lt;head&gt;\\n    &lt;meta charset=\"utf...</td>\n",
       "      <td>AADA</td>\n",
       "      <td>https://www.aad.org/public/diseases/acne/derm-...</td>\n",
       "    </tr>\n",
       "    <tr>\n",
       "      <th>2</th>\n",
       "      <td>16/05/2023 13:53:30</td>\n",
       "      <td>Actinic keratosis﻿</td>\n",
       "      <td>&lt;html lang=\"en\"&gt;&lt;head&gt;\\n    &lt;meta charset=\"utf...</td>\n",
       "      <td>AADA</td>\n",
       "      <td>https://www.aad.org/public/diseases/skin-cance...</td>\n",
       "    </tr>\n",
       "    <tr>\n",
       "      <th>3</th>\n",
       "      <td>16/05/2023 13:59:10</td>\n",
       "      <td>Alopecia areata﻿</td>\n",
       "      <td>&lt;html lang=\"en\"&gt;&lt;head&gt;\\n    &lt;meta charset=\"utf...</td>\n",
       "      <td>AADA</td>\n",
       "      <td>https://www.aad.org/public/diseases/hair-loss/...</td>\n",
       "    </tr>\n",
       "    <tr>\n",
       "      <th>4</th>\n",
       "      <td>16/05/2023 13:54:07</td>\n",
       "      <td>Athlete's foot﻿</td>\n",
       "      <td>&lt;html lang=\"en\"&gt;&lt;head&gt;\\n    &lt;meta charset=\"utf...</td>\n",
       "      <td>AADA</td>\n",
       "      <td>https://www.aad.org/public/diseases/a-z/athlet...</td>\n",
       "    </tr>\n",
       "    <tr>\n",
       "      <th>...</th>\n",
       "      <td>...</td>\n",
       "      <td>...</td>\n",
       "      <td>...</td>\n",
       "      <td>...</td>\n",
       "      <td>...</td>\n",
       "    </tr>\n",
       "    <tr>\n",
       "      <th>39995</th>\n",
       "      <td>28/10/2022 00:50:25</td>\n",
       "      <td>zylofuramine</td>\n",
       "      <td>&lt;!DOCTYPE html&gt;\\n&lt;html class=\"client-nojs\" dir...</td>\n",
       "      <td>wikipedia.com</td>\n",
       "      <td>https://en.wikipedia.org//wiki/Zylofuramine</td>\n",
       "    </tr>\n",
       "    <tr>\n",
       "      <th>39996</th>\n",
       "      <td>28/10/2022 00:50:26</td>\n",
       "      <td>Zyloprim</td>\n",
       "      <td>&lt;!DOCTYPE html&gt;\\n&lt;html class=\"client-nojs\" dir...</td>\n",
       "      <td>wikipedia.com</td>\n",
       "      <td>https://en.wikipedia.org//wiki/Zyloprim</td>\n",
       "    </tr>\n",
       "    <tr>\n",
       "      <th>39997</th>\n",
       "      <td>28/10/2022 00:50:26</td>\n",
       "      <td>Zymar</td>\n",
       "      <td>&lt;!DOCTYPE html&gt;\\n&lt;html class=\"client-nojs\" dir...</td>\n",
       "      <td>wikipedia.com</td>\n",
       "      <td>https://en.wikipedia.org//wiki/Zymar</td>\n",
       "    </tr>\n",
       "    <tr>\n",
       "      <th>39998</th>\n",
       "      <td>28/10/2022 00:50:27</td>\n",
       "      <td>Zyprexa</td>\n",
       "      <td>&lt;!DOCTYPE html&gt;\\n&lt;html class=\"client-nojs\" dir...</td>\n",
       "      <td>wikipedia.com</td>\n",
       "      <td>https://en.wikipedia.org//wiki/Zyprexa</td>\n",
       "    </tr>\n",
       "    <tr>\n",
       "      <th>39999</th>\n",
       "      <td>28/10/2022 00:50:27</td>\n",
       "      <td>Zyrtec</td>\n",
       "      <td>&lt;!DOCTYPE html&gt;\\n&lt;html class=\"client-nojs\" dir...</td>\n",
       "      <td>wikipedia.com</td>\n",
       "      <td>https://en.wikipedia.org//wiki/Zyrtec</td>\n",
       "    </tr>\n",
       "  </tbody>\n",
       "</table>\n",
       "<p>112188 rows × 5 columns</p>\n",
       "</div>"
      ],
      "text/plain": [
       "         date_time_scraped                    name   \n",
       "0      16/05/2023 13:52:52  Acne keloidalis nuchae  \\\n",
       "1      16/05/2023 13:54:43              Acne scars   \n",
       "2      16/05/2023 13:53:30      Actinic keratosis﻿   \n",
       "3      16/05/2023 13:59:10        Alopecia areata﻿   \n",
       "4      16/05/2023 13:54:07         Athlete's foot﻿   \n",
       "...                    ...                     ...   \n",
       "39995  28/10/2022 00:50:25            zylofuramine   \n",
       "39996  28/10/2022 00:50:26                Zyloprim   \n",
       "39997  28/10/2022 00:50:26                   Zymar   \n",
       "39998  28/10/2022 00:50:27                 Zyprexa   \n",
       "39999  28/10/2022 00:50:27                  Zyrtec   \n",
       "\n",
       "                                                raw_html    source_name   \n",
       "0      <html lang=\"en\"><head>\\n    <meta charset=\"utf...           AADA  \\\n",
       "1      <html lang=\"en\"><head>\\n    <meta charset=\"utf...           AADA   \n",
       "2      <html lang=\"en\"><head>\\n    <meta charset=\"utf...           AADA   \n",
       "3      <html lang=\"en\"><head>\\n    <meta charset=\"utf...           AADA   \n",
       "4      <html lang=\"en\"><head>\\n    <meta charset=\"utf...           AADA   \n",
       "...                                                  ...            ...   \n",
       "39995  <!DOCTYPE html>\\n<html class=\"client-nojs\" dir...  wikipedia.com   \n",
       "39996  <!DOCTYPE html>\\n<html class=\"client-nojs\" dir...  wikipedia.com   \n",
       "39997  <!DOCTYPE html>\\n<html class=\"client-nojs\" dir...  wikipedia.com   \n",
       "39998  <!DOCTYPE html>\\n<html class=\"client-nojs\" dir...  wikipedia.com   \n",
       "39999  <!DOCTYPE html>\\n<html class=\"client-nojs\" dir...  wikipedia.com   \n",
       "\n",
       "                                              source_url  \n",
       "0      https://www.aad.org/public/diseases/a-z/acne-k...  \n",
       "1      https://www.aad.org/public/diseases/acne/derm-...  \n",
       "2      https://www.aad.org/public/diseases/skin-cance...  \n",
       "3      https://www.aad.org/public/diseases/hair-loss/...  \n",
       "4      https://www.aad.org/public/diseases/a-z/athlet...  \n",
       "...                                                  ...  \n",
       "39995        https://en.wikipedia.org//wiki/Zylofuramine  \n",
       "39996            https://en.wikipedia.org//wiki/Zyloprim  \n",
       "39997               https://en.wikipedia.org//wiki/Zymar  \n",
       "39998             https://en.wikipedia.org//wiki/Zyprexa  \n",
       "39999              https://en.wikipedia.org//wiki/Zyrtec  \n",
       "\n",
       "[112188 rows x 5 columns]"
      ]
     },
     "execution_count": 11,
     "metadata": {},
     "output_type": "execute_result"
    }
   ],
   "source": [
    "df"
   ]
  },
  {
   "cell_type": "code",
   "execution_count": 12,
   "id": "68fe4e87-7947-49f9-90c5-48adda52654a",
   "metadata": {
    "tags": []
   },
   "outputs": [],
   "source": [
    "df['concept_name'] = df['name']\n",
    "\n",
    "# Drop 'disease_name' and 'name' columns\n",
    "df.drop(['name'], axis=1, inplace=True)"
   ]
  },
  {
   "cell_type": "code",
   "execution_count": null,
   "id": "3a55c8c5",
   "metadata": {
    "tags": []
   },
   "outputs": [],
   "source": [
    "df['concept_name'] = df['disease_name'].fillna('') + ' ' + df['name'].fillna('')\n",
    "\n",
    "# Drop 'disease_name' and 'name' columns\n",
    "df.drop(['disease_name', 'name'], axis=1, inplace=True)"
   ]
  },
  {
   "cell_type": "code",
   "execution_count": 13,
   "id": "ca1e5e26-395a-4aa4-a5d0-1070947ce8dd",
   "metadata": {
    "tags": []
   },
   "outputs": [],
   "source": [
    "path = \"C:\\\\Users\\\\gwenk\\\\OneDrive\\\\Documents\\\\Research\\\\Scraping\\\\MetaMap\\\\public_mm\\\\\"\n",
    "df_cui = pd.concat([ pd.read_parquet(path+\"Drug_CUI_Mappings.parquet\",engine='pyarrow'),\n",
    "                    pd.read_parquet(path+\"Disease_CUI_Mappings.parquet\",engine='pyarrow')\n",
    "                   ])"
   ]
  },
  {
   "cell_type": "code",
   "execution_count": 14,
   "id": "1f52c098-e2ab-4e59-b5db-3dd33ee24246",
   "metadata": {
    "tags": []
   },
   "outputs": [
    {
     "data": {
      "text/html": [
       "<div>\n",
       "<style scoped>\n",
       "    .dataframe tbody tr th:only-of-type {\n",
       "        vertical-align: middle;\n",
       "    }\n",
       "\n",
       "    .dataframe tbody tr th {\n",
       "        vertical-align: top;\n",
       "    }\n",
       "\n",
       "    .dataframe thead th {\n",
       "        text-align: right;\n",
       "    }\n",
       "</style>\n",
       "<table border=\"1\" class=\"dataframe\">\n",
       "  <thead>\n",
       "    <tr style=\"text-align: right;\">\n",
       "      <th></th>\n",
       "      <th>index</th>\n",
       "      <th>string_id</th>\n",
       "      <th>cui</th>\n",
       "    </tr>\n",
       "  </thead>\n",
       "  <tbody>\n",
       "    <tr>\n",
       "      <th>0</th>\n",
       "      <td>0</td>\n",
       "      <td>Esoterica Sensitive Skin</td>\n",
       "      <td></td>\n",
       "    </tr>\n",
       "    <tr>\n",
       "      <th>1</th>\n",
       "      <td>1</td>\n",
       "      <td>femstat</td>\n",
       "      <td></td>\n",
       "    </tr>\n",
       "    <tr>\n",
       "      <th>2</th>\n",
       "      <td>2</td>\n",
       "      <td>doliracetam</td>\n",
       "      <td></td>\n",
       "    </tr>\n",
       "    <tr>\n",
       "      <th>3</th>\n",
       "      <td>3</td>\n",
       "      <td>Ciprofloxacin Extended Release Tablets</td>\n",
       "      <td></td>\n",
       "    </tr>\n",
       "    <tr>\n",
       "      <th>4</th>\n",
       "      <td>4</td>\n",
       "      <td>Avar-E Emollient</td>\n",
       "      <td></td>\n",
       "    </tr>\n",
       "    <tr>\n",
       "      <th>...</th>\n",
       "      <td>...</td>\n",
       "      <td>...</td>\n",
       "      <td>...</td>\n",
       "    </tr>\n",
       "    <tr>\n",
       "      <th>82827</th>\n",
       "      <td>27435</td>\n",
       "      <td>kleefstra syndrome 2</td>\n",
       "      <td>C4540395</td>\n",
       "    </tr>\n",
       "    <tr>\n",
       "      <th>82828</th>\n",
       "      <td>27436</td>\n",
       "      <td>coronavirus infectious disease</td>\n",
       "      <td>C0009450, C0206750, C0206419, C3714515</td>\n",
       "    </tr>\n",
       "    <tr>\n",
       "      <th>82829</th>\n",
       "      <td>27437</td>\n",
       "      <td>3-methylcrotonyl-coa carboxylase 2 deficiency</td>\n",
       "      <td>C1859499</td>\n",
       "    </tr>\n",
       "    <tr>\n",
       "      <th>82830</th>\n",
       "      <td>27438</td>\n",
       "      <td>hyperekplexia 4</td>\n",
       "      <td>C4693933</td>\n",
       "    </tr>\n",
       "    <tr>\n",
       "      <th>82831</th>\n",
       "      <td>27439</td>\n",
       "      <td>hypotrichosis 14</td>\n",
       "      <td>C4748930</td>\n",
       "    </tr>\n",
       "  </tbody>\n",
       "</table>\n",
       "<p>82832 rows × 3 columns</p>\n",
       "</div>"
      ],
      "text/plain": [
       "       index                                      string_id   \n",
       "0          0                       Esoterica Sensitive Skin  \\\n",
       "1          1                                        femstat   \n",
       "2          2                                    doliracetam   \n",
       "3          3         Ciprofloxacin Extended Release Tablets   \n",
       "4          4                               Avar-E Emollient   \n",
       "...      ...                                            ...   \n",
       "82827  27435                           kleefstra syndrome 2   \n",
       "82828  27436                 coronavirus infectious disease   \n",
       "82829  27437  3-methylcrotonyl-coa carboxylase 2 deficiency   \n",
       "82830  27438                                hyperekplexia 4   \n",
       "82831  27439                               hypotrichosis 14   \n",
       "\n",
       "                                          cui  \n",
       "0                                              \n",
       "1                                              \n",
       "2                                              \n",
       "3                                              \n",
       "4                                              \n",
       "...                                       ...  \n",
       "82827                                C4540395  \n",
       "82828  C0009450, C0206750, C0206419, C3714515  \n",
       "82829                                C1859499  \n",
       "82830                                C4693933  \n",
       "82831                                C4748930  \n",
       "\n",
       "[82832 rows x 3 columns]"
      ]
     },
     "execution_count": 14,
     "metadata": {},
     "output_type": "execute_result"
    }
   ],
   "source": [
    "df_cui.reset_index(inplace=True)\n",
    "df_cui"
   ]
  },
  {
   "cell_type": "code",
   "execution_count": null,
   "id": "65276b9f-bedc-4a84-9334-aee41c56ce63",
   "metadata": {
    "tags": []
   },
   "outputs": [],
   "source": []
  },
  {
   "cell_type": "code",
   "execution_count": 15,
   "id": "ca5a0c67-5fcb-42fc-ac11-a0894da958d1",
   "metadata": {
    "tags": []
   },
   "outputs": [
    {
     "data": {
      "text/html": [
       "<div>\n",
       "<style scoped>\n",
       "    .dataframe tbody tr th:only-of-type {\n",
       "        vertical-align: middle;\n",
       "    }\n",
       "\n",
       "    .dataframe tbody tr th {\n",
       "        vertical-align: top;\n",
       "    }\n",
       "\n",
       "    .dataframe thead th {\n",
       "        text-align: right;\n",
       "    }\n",
       "</style>\n",
       "<table border=\"1\" class=\"dataframe\">\n",
       "  <thead>\n",
       "    <tr style=\"text-align: right;\">\n",
       "      <th></th>\n",
       "      <th>index</th>\n",
       "      <th>string_id</th>\n",
       "      <th>cui</th>\n",
       "    </tr>\n",
       "  </thead>\n",
       "  <tbody>\n",
       "    <tr>\n",
       "      <th>0</th>\n",
       "      <td>0</td>\n",
       "      <td>Esoterica Sensitive Skin</td>\n",
       "      <td></td>\n",
       "    </tr>\n",
       "    <tr>\n",
       "      <th>1</th>\n",
       "      <td>1</td>\n",
       "      <td>femstat</td>\n",
       "      <td></td>\n",
       "    </tr>\n",
       "    <tr>\n",
       "      <th>2</th>\n",
       "      <td>2</td>\n",
       "      <td>doliracetam</td>\n",
       "      <td></td>\n",
       "    </tr>\n",
       "    <tr>\n",
       "      <th>3</th>\n",
       "      <td>3</td>\n",
       "      <td>Ciprofloxacin Extended Release Tablets</td>\n",
       "      <td></td>\n",
       "    </tr>\n",
       "    <tr>\n",
       "      <th>4</th>\n",
       "      <td>4</td>\n",
       "      <td>Avar-E Emollient</td>\n",
       "      <td></td>\n",
       "    </tr>\n",
       "    <tr>\n",
       "      <th>...</th>\n",
       "      <td>...</td>\n",
       "      <td>...</td>\n",
       "      <td>...</td>\n",
       "    </tr>\n",
       "    <tr>\n",
       "      <th>80929</th>\n",
       "      <td>25537</td>\n",
       "      <td>dioctophymiasis</td>\n",
       "      <td></td>\n",
       "    </tr>\n",
       "    <tr>\n",
       "      <th>81431</th>\n",
       "      <td>26039</td>\n",
       "      <td>multisystem proteinopathy</td>\n",
       "      <td></td>\n",
       "    </tr>\n",
       "    <tr>\n",
       "      <th>81933</th>\n",
       "      <td>26541</td>\n",
       "      <td>pericytoma with t</td>\n",
       "      <td></td>\n",
       "    </tr>\n",
       "    <tr>\n",
       "      <th>82338</th>\n",
       "      <td>26946</td>\n",
       "      <td>tubulinopathy</td>\n",
       "      <td></td>\n",
       "    </tr>\n",
       "    <tr>\n",
       "      <th>82782</th>\n",
       "      <td>27390</td>\n",
       "      <td>rasopathy</td>\n",
       "      <td></td>\n",
       "    </tr>\n",
       "  </tbody>\n",
       "</table>\n",
       "<p>5187 rows × 3 columns</p>\n",
       "</div>"
      ],
      "text/plain": [
       "       index                               string_id cui\n",
       "0          0                Esoterica Sensitive Skin    \n",
       "1          1                                 femstat    \n",
       "2          2                             doliracetam    \n",
       "3          3  Ciprofloxacin Extended Release Tablets    \n",
       "4          4                        Avar-E Emollient    \n",
       "...      ...                                     ...  ..\n",
       "80929  25537                         dioctophymiasis    \n",
       "81431  26039               multisystem proteinopathy    \n",
       "81933  26541                       pericytoma with t    \n",
       "82338  26946                           tubulinopathy    \n",
       "82782  27390                               rasopathy    \n",
       "\n",
       "[5187 rows x 3 columns]"
      ]
     },
     "execution_count": 15,
     "metadata": {},
     "output_type": "execute_result"
    }
   ],
   "source": [
    "df_cui[df_cui[\"cui\"] == '']"
   ]
  },
  {
   "cell_type": "code",
   "execution_count": 16,
   "id": "06664249-9fd1-4be0-8a88-a50acd8e75d8",
   "metadata": {
    "tags": []
   },
   "outputs": [],
   "source": [
    "cui_dict = {}\n",
    "for row in df_cui.itertuples():\n",
    "    cui_dict[row[2]] = row[3]"
   ]
  },
  {
   "cell_type": "code",
   "execution_count": 17,
   "id": "9f25ee3c-0ff6-4251-af05-ca2a3a540c7c",
   "metadata": {
    "tags": []
   },
   "outputs": [],
   "source": [
    "import re"
   ]
  },
  {
   "cell_type": "code",
   "execution_count": 18,
   "id": "4f8e5e0e-3e89-4352-9f7f-2682471bfe55",
   "metadata": {
    "tags": []
   },
   "outputs": [],
   "source": [
    "def find_cui(string):\n",
    "    string = string.strip()\n",
    "    string = string.lower()\n",
    "    string = re.sub(r'/', ' ', string)\n",
    "    string = re.sub(r':.*', '', string)\n",
    "    string = re.sub(r'—.*', '', string)\n",
    "    string = re.sub(r'\\([^)]*\\)', '', string)\n",
    "    string = re.sub(r'[^,\\-a-zA-Z0-9 ]', '', string)\n",
    "    try:\n",
    "        return cui_dict[string.strip()]\n",
    "    except:\n",
    "        return \"\""
   ]
  },
  {
   "cell_type": "code",
   "execution_count": 19,
   "id": "31f2bda6-c99f-4626-82d8-041301652960",
   "metadata": {
    "tags": []
   },
   "outputs": [],
   "source": [
    "df[\"cuis\"] = df[\"concept_name\"].apply(lambda x: find_cui(x))"
   ]
  },
  {
   "cell_type": "code",
   "execution_count": 20,
   "id": "d5cde811-8026-472b-9451-dac73afdc3a3",
   "metadata": {
    "tags": []
   },
   "outputs": [
    {
     "data": {
      "text/html": [
       "<div>\n",
       "<style scoped>\n",
       "    .dataframe tbody tr th:only-of-type {\n",
       "        vertical-align: middle;\n",
       "    }\n",
       "\n",
       "    .dataframe tbody tr th {\n",
       "        vertical-align: top;\n",
       "    }\n",
       "\n",
       "    .dataframe thead th {\n",
       "        text-align: right;\n",
       "    }\n",
       "</style>\n",
       "<table border=\"1\" class=\"dataframe\">\n",
       "  <thead>\n",
       "    <tr style=\"text-align: right;\">\n",
       "      <th></th>\n",
       "      <th>index</th>\n",
       "      <th>string_id</th>\n",
       "      <th>cui</th>\n",
       "    </tr>\n",
       "  </thead>\n",
       "  <tbody>\n",
       "    <tr>\n",
       "      <th>55526</th>\n",
       "      <td>134</td>\n",
       "      <td>c difficile</td>\n",
       "      <td></td>\n",
       "    </tr>\n",
       "    <tr>\n",
       "      <th>65370</th>\n",
       "      <td>9978</td>\n",
       "      <td>c difficile infection</td>\n",
       "      <td>C0009450, C3714514</td>\n",
       "    </tr>\n",
       "    <tr>\n",
       "      <th>77712</th>\n",
       "      <td>22320</td>\n",
       "      <td>c difficile</td>\n",
       "      <td></td>\n",
       "    </tr>\n",
       "  </tbody>\n",
       "</table>\n",
       "</div>"
      ],
      "text/plain": [
       "       index              string_id                 cui\n",
       "55526    134            c difficile                    \n",
       "65370   9978  c difficile infection  C0009450, C3714514\n",
       "77712  22320            c difficile                    "
      ]
     },
     "execution_count": 20,
     "metadata": {},
     "output_type": "execute_result"
    }
   ],
   "source": [
    "df_cui.loc[df_cui[\"string_id\"].str.contains(\"c difficile\")]"
   ]
  },
  {
   "cell_type": "code",
   "execution_count": 21,
   "id": "093c8d8e-876f-43e8-a1ad-98a93846f9c6",
   "metadata": {
    "tags": []
   },
   "outputs": [
    {
     "data": {
      "text/html": [
       "<div>\n",
       "<style scoped>\n",
       "    .dataframe tbody tr th:only-of-type {\n",
       "        vertical-align: middle;\n",
       "    }\n",
       "\n",
       "    .dataframe tbody tr th {\n",
       "        vertical-align: top;\n",
       "    }\n",
       "\n",
       "    .dataframe thead th {\n",
       "        text-align: right;\n",
       "    }\n",
       "</style>\n",
       "<table border=\"1\" class=\"dataframe\">\n",
       "  <thead>\n",
       "    <tr style=\"text-align: right;\">\n",
       "      <th></th>\n",
       "      <th>date_time_scraped</th>\n",
       "      <th>raw_html</th>\n",
       "      <th>source_name</th>\n",
       "      <th>source_url</th>\n",
       "      <th>concept_name</th>\n",
       "      <th>cuis</th>\n",
       "    </tr>\n",
       "  </thead>\n",
       "  <tbody>\n",
       "    <tr>\n",
       "      <th>0</th>\n",
       "      <td>16/05/2023 13:52:52</td>\n",
       "      <td>&lt;html lang=\"en\"&gt;&lt;head&gt;\\n    &lt;meta charset=\"utf...</td>\n",
       "      <td>AADA</td>\n",
       "      <td>https://www.aad.org/public/diseases/a-z/acne-k...</td>\n",
       "      <td>Acne keloidalis nuchae</td>\n",
       "      <td>C0702166, C0001144, C0406631</td>\n",
       "    </tr>\n",
       "    <tr>\n",
       "      <th>1</th>\n",
       "      <td>16/05/2023 13:54:43</td>\n",
       "      <td>&lt;html lang=\"en\"&gt;&lt;head&gt;\\n    &lt;meta charset=\"utf...</td>\n",
       "      <td>AADA</td>\n",
       "      <td>https://www.aad.org/public/diseases/acne/derm-...</td>\n",
       "      <td>Acne scars</td>\n",
       "      <td>C0702166, C0001144, C2004491, C0241158</td>\n",
       "    </tr>\n",
       "    <tr>\n",
       "      <th>2</th>\n",
       "      <td>16/05/2023 13:53:30</td>\n",
       "      <td>&lt;html lang=\"en\"&gt;&lt;head&gt;\\n    &lt;meta charset=\"utf...</td>\n",
       "      <td>AADA</td>\n",
       "      <td>https://www.aad.org/public/diseases/skin-cance...</td>\n",
       "      <td>Actinic keratosis﻿</td>\n",
       "      <td>C0022602</td>\n",
       "    </tr>\n",
       "    <tr>\n",
       "      <th>3</th>\n",
       "      <td>16/05/2023 13:59:10</td>\n",
       "      <td>&lt;html lang=\"en\"&gt;&lt;head&gt;\\n    &lt;meta charset=\"utf...</td>\n",
       "      <td>AADA</td>\n",
       "      <td>https://www.aad.org/public/diseases/hair-loss/...</td>\n",
       "      <td>Alopecia areata﻿</td>\n",
       "      <td>C0002170, C0002171</td>\n",
       "    </tr>\n",
       "    <tr>\n",
       "      <th>4</th>\n",
       "      <td>16/05/2023 13:54:07</td>\n",
       "      <td>&lt;html lang=\"en\"&gt;&lt;head&gt;\\n    &lt;meta charset=\"utf...</td>\n",
       "      <td>AADA</td>\n",
       "      <td>https://www.aad.org/public/diseases/a-z/athlet...</td>\n",
       "      <td>Athlete's foot﻿</td>\n",
       "      <td>C0040259</td>\n",
       "    </tr>\n",
       "    <tr>\n",
       "      <th>...</th>\n",
       "      <td>...</td>\n",
       "      <td>...</td>\n",
       "      <td>...</td>\n",
       "      <td>...</td>\n",
       "      <td>...</td>\n",
       "      <td>...</td>\n",
       "    </tr>\n",
       "    <tr>\n",
       "      <th>39995</th>\n",
       "      <td>28/10/2022 00:50:25</td>\n",
       "      <td>&lt;!DOCTYPE html&gt;\\n&lt;html class=\"client-nojs\" dir...</td>\n",
       "      <td>wikipedia.com</td>\n",
       "      <td>https://en.wikipedia.org//wiki/Zylofuramine</td>\n",
       "      <td>zylofuramine</td>\n",
       "      <td>C2826074</td>\n",
       "    </tr>\n",
       "    <tr>\n",
       "      <th>39996</th>\n",
       "      <td>28/10/2022 00:50:26</td>\n",
       "      <td>&lt;!DOCTYPE html&gt;\\n&lt;html class=\"client-nojs\" dir...</td>\n",
       "      <td>wikipedia.com</td>\n",
       "      <td>https://en.wikipedia.org//wiki/Zyloprim</td>\n",
       "      <td>Zyloprim</td>\n",
       "      <td></td>\n",
       "    </tr>\n",
       "    <tr>\n",
       "      <th>39997</th>\n",
       "      <td>28/10/2022 00:50:26</td>\n",
       "      <td>&lt;!DOCTYPE html&gt;\\n&lt;html class=\"client-nojs\" dir...</td>\n",
       "      <td>wikipedia.com</td>\n",
       "      <td>https://en.wikipedia.org//wiki/Zymar</td>\n",
       "      <td>Zymar</td>\n",
       "      <td></td>\n",
       "    </tr>\n",
       "    <tr>\n",
       "      <th>39998</th>\n",
       "      <td>28/10/2022 00:50:27</td>\n",
       "      <td>&lt;!DOCTYPE html&gt;\\n&lt;html class=\"client-nojs\" dir...</td>\n",
       "      <td>wikipedia.com</td>\n",
       "      <td>https://en.wikipedia.org//wiki/Zyprexa</td>\n",
       "      <td>Zyprexa</td>\n",
       "      <td></td>\n",
       "    </tr>\n",
       "    <tr>\n",
       "      <th>39999</th>\n",
       "      <td>28/10/2022 00:50:27</td>\n",
       "      <td>&lt;!DOCTYPE html&gt;\\n&lt;html class=\"client-nojs\" dir...</td>\n",
       "      <td>wikipedia.com</td>\n",
       "      <td>https://en.wikipedia.org//wiki/Zyrtec</td>\n",
       "      <td>Zyrtec</td>\n",
       "      <td></td>\n",
       "    </tr>\n",
       "  </tbody>\n",
       "</table>\n",
       "<p>112188 rows × 6 columns</p>\n",
       "</div>"
      ],
      "text/plain": [
       "         date_time_scraped                                           raw_html   \n",
       "0      16/05/2023 13:52:52  <html lang=\"en\"><head>\\n    <meta charset=\"utf...  \\\n",
       "1      16/05/2023 13:54:43  <html lang=\"en\"><head>\\n    <meta charset=\"utf...   \n",
       "2      16/05/2023 13:53:30  <html lang=\"en\"><head>\\n    <meta charset=\"utf...   \n",
       "3      16/05/2023 13:59:10  <html lang=\"en\"><head>\\n    <meta charset=\"utf...   \n",
       "4      16/05/2023 13:54:07  <html lang=\"en\"><head>\\n    <meta charset=\"utf...   \n",
       "...                    ...                                                ...   \n",
       "39995  28/10/2022 00:50:25  <!DOCTYPE html>\\n<html class=\"client-nojs\" dir...   \n",
       "39996  28/10/2022 00:50:26  <!DOCTYPE html>\\n<html class=\"client-nojs\" dir...   \n",
       "39997  28/10/2022 00:50:26  <!DOCTYPE html>\\n<html class=\"client-nojs\" dir...   \n",
       "39998  28/10/2022 00:50:27  <!DOCTYPE html>\\n<html class=\"client-nojs\" dir...   \n",
       "39999  28/10/2022 00:50:27  <!DOCTYPE html>\\n<html class=\"client-nojs\" dir...   \n",
       "\n",
       "         source_name                                         source_url   \n",
       "0               AADA  https://www.aad.org/public/diseases/a-z/acne-k...  \\\n",
       "1               AADA  https://www.aad.org/public/diseases/acne/derm-...   \n",
       "2               AADA  https://www.aad.org/public/diseases/skin-cance...   \n",
       "3               AADA  https://www.aad.org/public/diseases/hair-loss/...   \n",
       "4               AADA  https://www.aad.org/public/diseases/a-z/athlet...   \n",
       "...              ...                                                ...   \n",
       "39995  wikipedia.com        https://en.wikipedia.org//wiki/Zylofuramine   \n",
       "39996  wikipedia.com            https://en.wikipedia.org//wiki/Zyloprim   \n",
       "39997  wikipedia.com               https://en.wikipedia.org//wiki/Zymar   \n",
       "39998  wikipedia.com             https://en.wikipedia.org//wiki/Zyprexa   \n",
       "39999  wikipedia.com              https://en.wikipedia.org//wiki/Zyrtec   \n",
       "\n",
       "                 concept_name                                    cuis  \n",
       "0      Acne keloidalis nuchae            C0702166, C0001144, C0406631  \n",
       "1                  Acne scars  C0702166, C0001144, C2004491, C0241158  \n",
       "2          Actinic keratosis﻿                                C0022602  \n",
       "3            Alopecia areata﻿                      C0002170, C0002171  \n",
       "4             Athlete's foot﻿                                C0040259  \n",
       "...                       ...                                     ...  \n",
       "39995            zylofuramine                                C2826074  \n",
       "39996                Zyloprim                                          \n",
       "39997                   Zymar                                          \n",
       "39998                 Zyprexa                                          \n",
       "39999                  Zyrtec                                          \n",
       "\n",
       "[112188 rows x 6 columns]"
      ]
     },
     "execution_count": 21,
     "metadata": {},
     "output_type": "execute_result"
    }
   ],
   "source": [
    "df"
   ]
  },
  {
   "cell_type": "code",
   "execution_count": 22,
   "id": "98f2eecf",
   "metadata": {
    "tags": []
   },
   "outputs": [],
   "source": [
    "# Define the desired column order\n",
    "desired_order = [\n",
    "    'concept_name', 'cuis', 'source_name', 'source_url',\n",
    "    'date_time_scraped', 'raw_html'\n",
    "]\n",
    "\n",
    "# Rearrange the columns in the desired order\n",
    "df = df[desired_order]"
   ]
  },
  {
   "cell_type": "code",
   "execution_count": 23,
   "id": "11c01f1e",
   "metadata": {
    "tags": []
   },
   "outputs": [],
   "source": [
    "df = df.drop_duplicates(subset=[\"source_url\"]).reset_index()"
   ]
  },
  {
   "cell_type": "code",
   "execution_count": 25,
   "id": "7c0e4a8c",
   "metadata": {
    "tags": []
   },
   "outputs": [],
   "source": [
    "df = df.drop(df.columns[[0]],axis=1)"
   ]
  },
  {
   "cell_type": "code",
   "execution_count": 26,
   "id": "40cfa676",
   "metadata": {
    "tags": []
   },
   "outputs": [
    {
     "data": {
      "text/html": [
       "<div>\n",
       "<style scoped>\n",
       "    .dataframe tbody tr th:only-of-type {\n",
       "        vertical-align: middle;\n",
       "    }\n",
       "\n",
       "    .dataframe tbody tr th {\n",
       "        vertical-align: top;\n",
       "    }\n",
       "\n",
       "    .dataframe thead th {\n",
       "        text-align: right;\n",
       "    }\n",
       "</style>\n",
       "<table border=\"1\" class=\"dataframe\">\n",
       "  <thead>\n",
       "    <tr style=\"text-align: right;\">\n",
       "      <th></th>\n",
       "      <th>concept_name</th>\n",
       "      <th>cuis</th>\n",
       "      <th>source_name</th>\n",
       "      <th>source_url</th>\n",
       "      <th>date_time_scraped</th>\n",
       "      <th>raw_html</th>\n",
       "    </tr>\n",
       "  </thead>\n",
       "  <tbody>\n",
       "    <tr>\n",
       "      <th>0</th>\n",
       "      <td>Acne keloidalis nuchae</td>\n",
       "      <td>C0702166, C0001144, C0406631</td>\n",
       "      <td>AADA</td>\n",
       "      <td>https://www.aad.org/public/diseases/a-z/acne-k...</td>\n",
       "      <td>16/05/2023 13:52:52</td>\n",
       "      <td>&lt;html lang=\"en\"&gt;&lt;head&gt;\\n    &lt;meta charset=\"utf...</td>\n",
       "    </tr>\n",
       "    <tr>\n",
       "      <th>1</th>\n",
       "      <td>Acne scars</td>\n",
       "      <td>C0702166, C0001144, C2004491, C0241158</td>\n",
       "      <td>AADA</td>\n",
       "      <td>https://www.aad.org/public/diseases/acne/derm-...</td>\n",
       "      <td>16/05/2023 13:54:43</td>\n",
       "      <td>&lt;html lang=\"en\"&gt;&lt;head&gt;\\n    &lt;meta charset=\"utf...</td>\n",
       "    </tr>\n",
       "    <tr>\n",
       "      <th>2</th>\n",
       "      <td>Actinic keratosis﻿</td>\n",
       "      <td>C0022602</td>\n",
       "      <td>AADA</td>\n",
       "      <td>https://www.aad.org/public/diseases/skin-cance...</td>\n",
       "      <td>16/05/2023 13:53:30</td>\n",
       "      <td>&lt;html lang=\"en\"&gt;&lt;head&gt;\\n    &lt;meta charset=\"utf...</td>\n",
       "    </tr>\n",
       "    <tr>\n",
       "      <th>3</th>\n",
       "      <td>Alopecia areata﻿</td>\n",
       "      <td>C0002170, C0002171</td>\n",
       "      <td>AADA</td>\n",
       "      <td>https://www.aad.org/public/diseases/hair-loss/...</td>\n",
       "      <td>16/05/2023 13:59:10</td>\n",
       "      <td>&lt;html lang=\"en\"&gt;&lt;head&gt;\\n    &lt;meta charset=\"utf...</td>\n",
       "    </tr>\n",
       "    <tr>\n",
       "      <th>4</th>\n",
       "      <td>Athlete's foot﻿</td>\n",
       "      <td>C0040259</td>\n",
       "      <td>AADA</td>\n",
       "      <td>https://www.aad.org/public/diseases/a-z/athlet...</td>\n",
       "      <td>16/05/2023 13:54:07</td>\n",
       "      <td>&lt;html lang=\"en\"&gt;&lt;head&gt;\\n    &lt;meta charset=\"utf...</td>\n",
       "    </tr>\n",
       "    <tr>\n",
       "      <th>...</th>\n",
       "      <td>...</td>\n",
       "      <td>...</td>\n",
       "      <td>...</td>\n",
       "      <td>...</td>\n",
       "      <td>...</td>\n",
       "      <td>...</td>\n",
       "    </tr>\n",
       "    <tr>\n",
       "      <th>81195</th>\n",
       "      <td>zylofuramine</td>\n",
       "      <td>C2826074</td>\n",
       "      <td>wikipedia.com</td>\n",
       "      <td>https://en.wikipedia.org//wiki/Zylofuramine</td>\n",
       "      <td>28/10/2022 00:50:25</td>\n",
       "      <td>&lt;!DOCTYPE html&gt;\\n&lt;html class=\"client-nojs\" dir...</td>\n",
       "    </tr>\n",
       "    <tr>\n",
       "      <th>81196</th>\n",
       "      <td>Zyloprim</td>\n",
       "      <td></td>\n",
       "      <td>wikipedia.com</td>\n",
       "      <td>https://en.wikipedia.org//wiki/Zyloprim</td>\n",
       "      <td>28/10/2022 00:50:26</td>\n",
       "      <td>&lt;!DOCTYPE html&gt;\\n&lt;html class=\"client-nojs\" dir...</td>\n",
       "    </tr>\n",
       "    <tr>\n",
       "      <th>81197</th>\n",
       "      <td>Zymar</td>\n",
       "      <td></td>\n",
       "      <td>wikipedia.com</td>\n",
       "      <td>https://en.wikipedia.org//wiki/Zymar</td>\n",
       "      <td>28/10/2022 00:50:26</td>\n",
       "      <td>&lt;!DOCTYPE html&gt;\\n&lt;html class=\"client-nojs\" dir...</td>\n",
       "    </tr>\n",
       "    <tr>\n",
       "      <th>81198</th>\n",
       "      <td>Zyprexa</td>\n",
       "      <td></td>\n",
       "      <td>wikipedia.com</td>\n",
       "      <td>https://en.wikipedia.org//wiki/Zyprexa</td>\n",
       "      <td>28/10/2022 00:50:27</td>\n",
       "      <td>&lt;!DOCTYPE html&gt;\\n&lt;html class=\"client-nojs\" dir...</td>\n",
       "    </tr>\n",
       "    <tr>\n",
       "      <th>81199</th>\n",
       "      <td>Zyrtec</td>\n",
       "      <td></td>\n",
       "      <td>wikipedia.com</td>\n",
       "      <td>https://en.wikipedia.org//wiki/Zyrtec</td>\n",
       "      <td>28/10/2022 00:50:27</td>\n",
       "      <td>&lt;!DOCTYPE html&gt;\\n&lt;html class=\"client-nojs\" dir...</td>\n",
       "    </tr>\n",
       "  </tbody>\n",
       "</table>\n",
       "<p>81200 rows × 6 columns</p>\n",
       "</div>"
      ],
      "text/plain": [
       "                 concept_name                                    cuis   \n",
       "0      Acne keloidalis nuchae            C0702166, C0001144, C0406631  \\\n",
       "1                  Acne scars  C0702166, C0001144, C2004491, C0241158   \n",
       "2          Actinic keratosis﻿                                C0022602   \n",
       "3            Alopecia areata﻿                      C0002170, C0002171   \n",
       "4             Athlete's foot﻿                                C0040259   \n",
       "...                       ...                                     ...   \n",
       "81195            zylofuramine                                C2826074   \n",
       "81196                Zyloprim                                           \n",
       "81197                   Zymar                                           \n",
       "81198                 Zyprexa                                           \n",
       "81199                  Zyrtec                                           \n",
       "\n",
       "         source_name                                         source_url   \n",
       "0               AADA  https://www.aad.org/public/diseases/a-z/acne-k...  \\\n",
       "1               AADA  https://www.aad.org/public/diseases/acne/derm-...   \n",
       "2               AADA  https://www.aad.org/public/diseases/skin-cance...   \n",
       "3               AADA  https://www.aad.org/public/diseases/hair-loss/...   \n",
       "4               AADA  https://www.aad.org/public/diseases/a-z/athlet...   \n",
       "...              ...                                                ...   \n",
       "81195  wikipedia.com        https://en.wikipedia.org//wiki/Zylofuramine   \n",
       "81196  wikipedia.com            https://en.wikipedia.org//wiki/Zyloprim   \n",
       "81197  wikipedia.com               https://en.wikipedia.org//wiki/Zymar   \n",
       "81198  wikipedia.com             https://en.wikipedia.org//wiki/Zyprexa   \n",
       "81199  wikipedia.com              https://en.wikipedia.org//wiki/Zyrtec   \n",
       "\n",
       "         date_time_scraped                                           raw_html  \n",
       "0      16/05/2023 13:52:52  <html lang=\"en\"><head>\\n    <meta charset=\"utf...  \n",
       "1      16/05/2023 13:54:43  <html lang=\"en\"><head>\\n    <meta charset=\"utf...  \n",
       "2      16/05/2023 13:53:30  <html lang=\"en\"><head>\\n    <meta charset=\"utf...  \n",
       "3      16/05/2023 13:59:10  <html lang=\"en\"><head>\\n    <meta charset=\"utf...  \n",
       "4      16/05/2023 13:54:07  <html lang=\"en\"><head>\\n    <meta charset=\"utf...  \n",
       "...                    ...                                                ...  \n",
       "81195  28/10/2022 00:50:25  <!DOCTYPE html>\\n<html class=\"client-nojs\" dir...  \n",
       "81196  28/10/2022 00:50:26  <!DOCTYPE html>\\n<html class=\"client-nojs\" dir...  \n",
       "81197  28/10/2022 00:50:26  <!DOCTYPE html>\\n<html class=\"client-nojs\" dir...  \n",
       "81198  28/10/2022 00:50:27  <!DOCTYPE html>\\n<html class=\"client-nojs\" dir...  \n",
       "81199  28/10/2022 00:50:27  <!DOCTYPE html>\\n<html class=\"client-nojs\" dir...  \n",
       "\n",
       "[81200 rows x 6 columns]"
      ]
     },
     "execution_count": 26,
     "metadata": {},
     "output_type": "execute_result"
    }
   ],
   "source": [
    "df"
   ]
  },
  {
   "cell_type": "code",
   "execution_count": null,
   "id": "6f7e9899",
   "metadata": {},
   "outputs": [],
   "source": [
    "first_column = df[df['cui'].isnull()]"
   ]
  },
  {
   "cell_type": "code",
   "execution_count": null,
   "id": "15fddb69",
   "metadata": {},
   "outputs": [],
   "source": [
    "first_column = first_column.drop(first_column.columns[[2,3,4,5,6,7]],axis=1)"
   ]
  },
  {
   "cell_type": "code",
   "execution_count": null,
   "id": "9f47166a",
   "metadata": {
    "tags": []
   },
   "outputs": [],
   "source": [
    "outputfile = \"drug_names.txt\"\n",
    "names = set(df[\"concept_name\"])\n",
    "with open(outputfile,'w',encoding='utf-8') as o:\n",
    "    for name in names:\n",
    "        o.write(f\"{name}\\n\")"
   ]
  },
  {
   "cell_type": "code",
   "execution_count": null,
   "id": "382eeb83",
   "metadata": {
    "tags": []
   },
   "outputs": [],
   "source": [
    "\n",
    "\n",
    "# Save the first column as a text file\n",
    "file_path = 'CUIMatching\\\\disease_names.txt'\n",
    "with open(file_path, 'w',encoding='utf-8') as file:\n",
    "    for index, row in first_column.iterrows():\n",
    "        file.write(f\"{row[0].lower().strip()}\\n\")"
   ]
  },
  {
   "cell_type": "code",
   "execution_count": null,
   "id": "fd7c118a",
   "metadata": {
    "tags": []
   },
   "outputs": [],
   "source": [
    "file_paths = [\"CUIMatching\\\\matched_cuis.csv\",\"CUIMatching\\\\matched_cuis1.csv\",\"CUIMatching\\\\matched_cuis2.csv\",\"CUIMatching\\\\matched_cuis3.csv\"]\n",
    "dfs = []\n",
    "for path in file_paths:\n",
    "    temp = pd.read_csv(path,sep=\"{S}\",engine='python')\n",
    "    dfs.append(temp)\n",
    "matched_cuis_df = pd.concat(dfs,ignore_index=True)\n",
    "matched_cuis_df"
   ]
  },
  {
   "cell_type": "code",
   "execution_count": null,
   "id": "fdb839e4",
   "metadata": {
    "tags": []
   },
   "outputs": [],
   "source": [
    "import re"
   ]
  },
  {
   "cell_type": "code",
   "execution_count": null,
   "id": "010bae0f",
   "metadata": {
    "tags": []
   },
   "outputs": [],
   "source": [
    "cui_match_dict = dict()\n",
    "for index,row in matched_cuis_df.iterrows():\n",
    "    string = row[1]\n",
    "    string = re.sub(r':.*', '', string).strip().lower()\n",
    "    string = re.sub(r'—.*', '', string)\n",
    "    string = re.sub(r'\\([^)]*\\)', '', string)\n",
    "    string = re.sub(r'[^,\\-a-zA-Z0-9 ]', '', string)\n",
    "    cui_match_dict[string] = row[0]"
   ]
  },
  {
   "cell_type": "code",
   "execution_count": null,
   "id": "d5387003-9a5e-49bf-92cf-b523773558cf",
   "metadata": {
    "tags": []
   },
   "outputs": [],
   "source": [
    "cui_match_dict"
   ]
  },
  {
   "cell_type": "code",
   "execution_count": null,
   "id": "464af72d-3c6c-4116-b105-90fa6ab6048b",
   "metadata": {
    "tags": []
   },
   "outputs": [],
   "source": [
    "tempdf"
   ]
  },
  {
   "cell_type": "code",
   "execution_count": null,
   "id": "ac457242",
   "metadata": {
    "tags": []
   },
   "outputs": [],
   "source": [
    "tempdf = df\n",
    "for index, row in tempdf.iterrows():\n",
    "    if row['cui'] is not None:\n",
    "        continue\n",
    "    try:\n",
    "        string = row['concept_name']\n",
    "        string = re.sub(r':.*', '', string).strip().lower()\n",
    "        string = re.sub(r'—.*', '', string)\n",
    "        string = re.sub(r'\\([^)]*\\)', '', string)\n",
    "        string = re.sub(r'[^,\\-a-zA-Z0-9 ]', '', string).strip()\n",
    "        tempdf.iloc[index]['cui'] = cui_match_dict[string]\n",
    "    except KeyError:\n",
    "        print(\"KeyError at key: \",row[0],\" and index: \",index)\n",
    "    except:\n",
    "        print(\"Other error at index: \",index)"
   ]
  },
  {
   "cell_type": "code",
   "execution_count": null,
   "id": "926f77be",
   "metadata": {
    "tags": []
   },
   "outputs": [],
   "source": [
    "df = tempdf"
   ]
  },
  {
   "cell_type": "code",
   "execution_count": 27,
   "id": "47115cc1-c55e-4934-a777-c2ec87e23ef7",
   "metadata": {
    "tags": []
   },
   "outputs": [],
   "source": [
    "pd.set_option('display.max_rows', 500)"
   ]
  },
  {
   "cell_type": "code",
   "execution_count": 28,
   "id": "01367026-18ab-4e07-9168-ec11dd8df806",
   "metadata": {
    "tags": []
   },
   "outputs": [],
   "source": [
    "pd.set_option('display.max_colwidth',500)"
   ]
  },
  {
   "cell_type": "code",
   "execution_count": null,
   "id": "2f105d6a-220a-406d-af6c-eb966abac082",
   "metadata": {
    "tags": []
   },
   "outputs": [],
   "source": [
    "tempdf"
   ]
  },
  {
   "cell_type": "code",
   "execution_count": null,
   "id": "3c7b9057-31ae-4c2f-8b3a-4509cc03c07e",
   "metadata": {
    "tags": []
   },
   "outputs": [],
   "source": []
  },
  {
   "cell_type": "code",
   "execution_count": null,
   "id": "419a6c30",
   "metadata": {
    "tags": []
   },
   "outputs": [],
   "source": [
    "tempdf.to_parquet(\"CUIMatching\\\\CUIMatched_Concepts.parquet\",engine='pyarrow',compression='snappy')"
   ]
  },
  {
   "cell_type": "code",
   "execution_count": 29,
   "id": "86e54d48",
   "metadata": {
    "tags": []
   },
   "outputs": [],
   "source": [
    "import re"
   ]
  },
  {
   "cell_type": "code",
   "execution_count": 30,
   "id": "7971122b-d7f3-4420-8aad-7a960ce7fa90",
   "metadata": {
    "tags": []
   },
   "outputs": [],
   "source": [
    "def remove_duplicate_whitespace(x):\n",
    "    return re.sub(r\"(\\. )+\",\". \",re.sub(r\"\\.+\",\".\",re.sub(r\" +|\\r+|\\t+\",\" \",re.sub(r\"\\n+\",\"\\n\",x))))"
   ]
  },
  {
   "cell_type": "code",
   "execution_count": 33,
   "id": "bdbe04f0",
   "metadata": {
    "tags": []
   },
   "outputs": [],
   "source": [
    "def source_differentiation(source_name,raw_html,concept):\n",
    "    \n",
    "    try:\n",
    "        soup = BeautifulSoup(raw_html,'lxml')\n",
    "\n",
    "        if source_name == 'Healthy Western Australians (gov)':\n",
    "            # Code for 'Healthy Western Australians (gov)'\n",
    "            if \"CAHS - 404\" in raw_html:\n",
    "                return \"\"\n",
    "            text = \"\"\n",
    "            text = text + remove_duplicate_whitespace(soup.find('div',class_=\"clearfix articlePage content-wrap\").text)\n",
    "            substrings = [\n",
    "                \"This publication is provided for education and information purposes only.\",\n",
    "                \"View and download this information as a PDF fact sheet \",\n",
    "                \"Acknowledgements \",\n",
    "                \"Last reviewed: \"\n",
    "            ]\n",
    "            for substring in substrings:\n",
    "                text = text.split(substring)[0]\n",
    "\n",
    "\n",
    "            pass\n",
    "        elif source_name == 'Illinois DPH':\n",
    "\n",
    "            text = \"\"\n",
    "    #         try:\n",
    "            tts = soup.find_all('div',class_=\"cmp-text\")\n",
    "            for t in tts:\n",
    "                text += t.text\n",
    "            text = remove_duplicate_whitespace(text)\n",
    "            # Code for 'Illinois DPH'\n",
    "            pass\n",
    "        elif source_name == 'NIH':\n",
    "            # Code for 'NIH'\n",
    "            pass\n",
    "        elif source_name == 'AADA':\n",
    "            # col-lg-9\n",
    "            try:\n",
    "                text = \"\"\n",
    "                for p in soup.find('main',class_=\"col-lg-9\").find_all('p'):\n",
    "                    text += p.text + \". \"\n",
    "                text = remove_duplicate_whitespace(text)\n",
    "            except:\n",
    "                pass\n",
    "            # Code for 'AADA'\n",
    "            pass\n",
    "        elif source_name == 'Mayoclinic':\n",
    "            text = \"\"\n",
    "    #         try:\n",
    "            # text = text + remove_duplicate_whitespace(soup.find('div',class_=\"content\").text)\n",
    "    #         except:\n",
    "    #             pass\n",
    "            # Code for 'Mayoclinic'\n",
    "            pass\n",
    "        elif source_name == 'MedlinePlus':\n",
    "            text = \"\"\n",
    "            text += soup.find('div',id=\"topic-summary\").text\n",
    "            text = remove_duplicate_whitespace(text)\n",
    "            # Code for 'MedlinePlus'\n",
    "            pass\n",
    "        elif source_name == 'NIH NINDS':\n",
    "            text = \"\"\n",
    "            text += soup.find('div',class_=\"clearfix text-formatted field field--name-body field--type-text-with-summary field--label-hidden field__item\").text\n",
    "            text = remove_duplicate_whitespace(text)\n",
    "            # Code for 'NIH NINDS'\n",
    "            pass\n",
    "        elif source_name == 'CanadaPublicHealth':\n",
    "\n",
    "            text = \"\"\n",
    "            try:\n",
    "                text = text + remove_duplicate_whitespace(soup.find('div',class_=\"mwsbodytext text parbase section\").text)\n",
    "            except:\n",
    "                pass\n",
    "            try:\n",
    "                text = text + remove_duplicate_whitespace(soup.find('div',class_=\"mwsgeneric-base-html parbase section\").text)\n",
    "            except:\n",
    "                pass\n",
    "            # Code for 'CanadaPublicHealth'\n",
    "            pass\n",
    "        elif source_name == 'HealthDirectGovAU':\n",
    "    #         cont_layout-standout (for overview)\n",
    "            text = \"\"\n",
    "\n",
    "            try:\n",
    "                text = text + remove_duplicate_whitespace(soup.find('div',class_=\"main_content-body-text\").text)\n",
    "            except:\n",
    "                pass\n",
    "\n",
    "            # Code for 'HealthDirectGovAU'\n",
    "            pass\n",
    "        elif source_name == 'Hexahealth':\n",
    "            # Code for 'Hexahealth'\n",
    "            pass\n",
    "        elif source_name == 'NHSScot':\n",
    "            text = \"\"\n",
    "            try:\n",
    "                text = text + remove_duplicate_whitespace(soup.find('div',class_=\"editor\").text)\n",
    "            except:\n",
    "                pass\n",
    "            # Code for 'NHSScot'\n",
    "            pass\n",
    "        elif source_name == 'Cleveland Clinic':\n",
    "            text = remove_duplicate_whitespace(soup.find('div',class_=\"js-health-article__content health-article__content\").text)\n",
    "            # Code for 'Cleveland Clinic'\n",
    "    #         js-section js-section--overview\n",
    "            pass\n",
    "        elif source_name == 'DrugsDOTcom':\n",
    "            text = \"\"\n",
    "            try:\n",
    "                text = text + remove_duplicate_whitespace(soup.find('div',class_=\"ddc-expand-read-more\").text)\n",
    "            except:\n",
    "                pass\n",
    "            try:\n",
    "                text = text + remove_duplicate_whitespace(soup.find('div',class_=\"ddc-expand-read-more ddc-expand-read-more-hidden\").text)\n",
    "            except:\n",
    "                pass\n",
    "            try:\n",
    "                for tr in soup.find('div',class_=\"ddc-clear-both injection-ignore-inside\").find_all('tr')[1:]:\n",
    "                    text += tr.text\n",
    "            except: \n",
    "                pass\n",
    "            # Code for 'DrugsDOTcom'\n",
    "            pass\n",
    "        elif source_name == 'CDC':\n",
    "            # Code for 'CDC'\n",
    "            text = \"\"\n",
    "            pass\n",
    "        elif source_name == 'Rare Diseases NIH':\n",
    "            text = \"\"\n",
    "            try:\n",
    "                text = text + remove_duplicate_whitespace(soup.find('div',class_=\"fs-md-18\").text)\n",
    "            except:\n",
    "                pass\n",
    "\n",
    "            # Code for 'Rare Diseases NIH'\n",
    "            pass\n",
    "        elif source_name == 'Medscape':\n",
    "            text = soup.text\n",
    "            # Code for 'Medscape'\n",
    "            pass\n",
    "        elif source_name == 'NHS':\n",
    "\n",
    "            text = \"\"\n",
    "    #         try:\n",
    "            sections = soup.find_all(\"section\")\n",
    "            for section in sections[1:]:\n",
    "                text = text + remove_duplicate_whitespace(section.text)\n",
    "    #         except:\n",
    "    #             pass\n",
    "            # Code for 'NHS'\n",
    "            pass\n",
    "        elif source_name == 'Clinical Trials gov':\n",
    "            text = \"\"\n",
    "            # Code for 'Clinical Trials gov'\n",
    "            pass\n",
    "        elif source_name == 'Rheumatology':\n",
    "            # Code for 'Rheumatology'\n",
    "            pass\n",
    "        elif source_name == 'Merck Manuals':\n",
    "            text = \"\"\n",
    "            try:\n",
    "                text = text + remove_duplicate_whitespace(soup.find('div',class_=\"topic__accordion\").text)\n",
    "            except:\n",
    "                pass\n",
    "            # Code for 'Merck Manuals'\n",
    "            pass\n",
    "        elif source_name == 'Wikipedia':\n",
    "\n",
    "            # Code for 'Wikipedia'\n",
    "            pass\n",
    "        elif source_name == 'Wisconsin Department of Health Services':\n",
    "\n",
    "            text = \"\"\n",
    "            try:\n",
    "                text = text + remove_duplicate_whitespace(soup.find('div',class_=\"c-field__content\").text)\n",
    "            except:\n",
    "                pass\n",
    "            # Code for 'Wisconsin Department of Health Services'\n",
    "            pass\n",
    "        elif source_name == 'WHO':\n",
    "            text = \"\"\n",
    "            try:\n",
    "                text = text + remove_duplicate_whitespace(soup.find('div',class_=\"sf_colsOut tabContent\").text)\n",
    "            except:\n",
    "                pass\n",
    "            # Code for 'WHO'\n",
    "            pass\n",
    "        elif source_name == 'Seattle Childrens':\n",
    "\n",
    "            text = \"\"\n",
    "            try:\n",
    "                text = text + remove_duplicate_whitespace(soup.find('div',class_=\"main-content-body\").text)\n",
    "            except:\n",
    "                pass\n",
    "            # Code for 'Seattle Childrens'\n",
    "            pass\n",
    "        elif source_name == 'WebMD':\n",
    "\n",
    "            text = \"\"\n",
    "            try:\n",
    "                text = text + remove_duplicate_whitespace(soup.find('div',class_=\"article-page active-page\").text)\n",
    "            except:\n",
    "                pass\n",
    "            # Code for 'WebMD'\n",
    "            pass\n",
    "        elif source_name == 'RareDiseases.org':\n",
    "            try:\n",
    "                text = soup.find('div',id=\"disease-overview\").text.strip()\n",
    "            except:\n",
    "                text = None\n",
    "            # Code for 'RareDiseases.org'\n",
    "            pass\n",
    "        else:\n",
    "            crash = 0/0/0/0\n",
    "        return text\n",
    "        print(remove_duplicate_whitespace(text))\n",
    "    except:\n",
    "        print(concept)\n",
    "        return \"\""
   ]
  },
  {
   "cell_type": "code",
   "execution_count": 43,
   "id": "911232a9-b1ee-43b9-b235-0bf1d50acc90",
   "metadata": {
    "tags": []
   },
   "outputs": [
    {
     "data": {
      "text/html": [
       "<div>\n",
       "<style scoped>\n",
       "    .dataframe tbody tr th:only-of-type {\n",
       "        vertical-align: middle;\n",
       "    }\n",
       "\n",
       "    .dataframe tbody tr th {\n",
       "        vertical-align: top;\n",
       "    }\n",
       "\n",
       "    .dataframe thead th {\n",
       "        text-align: right;\n",
       "    }\n",
       "</style>\n",
       "<table border=\"1\" class=\"dataframe\">\n",
       "  <thead>\n",
       "    <tr style=\"text-align: right;\">\n",
       "      <th></th>\n",
       "      <th>concept_name</th>\n",
       "      <th>cuis</th>\n",
       "      <th>source_name</th>\n",
       "      <th>source_url</th>\n",
       "      <th>date_time_scraped</th>\n",
       "      <th>raw_html</th>\n",
       "    </tr>\n",
       "  </thead>\n",
       "  <tbody>\n",
       "    <tr>\n",
       "      <th>2247</th>\n",
       "      <td>Eosinophilic Esophagitis</td>\n",
       "      <td>C0341106</td>\n",
       "      <td>Cleveland Clinic</td>\n",
       "      <td>https://my.clevelandclinic.org/health/diseases/14321-eosinophilic-esophagitis</td>\n",
       "      <td>06/06/2023 19:26:46</td>\n",
       "      <td>&lt;html dir=\"ltr\" lang=\"en\"&gt;&lt;head&gt;\\n&lt;meta charset=\"utf-8\"&gt;\\n&lt;meta name=\"viewport\" content=\"width=device-width, initial-scale=1.0\"&gt;\\n&lt;link rel=\"preconnect\" href=\"https://fonts.googleapis.com\"&gt;\\n&lt;link rel=\"preconnect\" href=\"https://fonts.gstatic.com\" crossorigin=\"\"&gt;\\n&lt;link href=\"//fonts.googleapis.com/css2?family=Roboto+Condensed&amp;amp;family=Roboto:wght@400;500;700;900&amp;amp;display=swap\" rel=\"stylesheet\" as=\"style\" onload=\"this.rel='stylesheet'\"&gt;\\n&lt;link rel=\"preload\" href=\"https://cdn.static.zdbb....</td>\n",
       "    </tr>\n",
       "    <tr>\n",
       "      <th>6977</th>\n",
       "      <td>EE (Eosinophilic Esophagitis)</td>\n",
       "      <td></td>\n",
       "      <td>DrugsDOTcom</td>\n",
       "      <td>https://www.drugs.com/condition/eosinophilic-esophagitis.html</td>\n",
       "      <td>11/05/2023 19:43:43</td>\n",
       "      <td>&lt;html lang=\"en\"&gt;&lt;head&gt;\\n&lt;meta charset=\"utf-8\"&gt;\\n&lt;title&gt;List of 8 Eosinophilic Esophagitis Medications Compared - Drugs.com&lt;/title&gt;\\n&lt;meta name=\"viewport\" content=\"width=device-width, initial-scale=1\"&gt;\\n&lt;meta name=\"description\" content=\"Compare risks and benefits of common medications used for Eosinophilic Esophagitis. Find the most popular drugs, view ratings and user reviews.\"&gt;\\n&lt;meta name=\"referrer\" content=\"origin-when-cross-origin\"&gt;\\n&lt;meta name=\"robots\" content=\"max-image-preview:large\"&gt;...</td>\n",
       "    </tr>\n",
       "    <tr>\n",
       "      <th>10561</th>\n",
       "      <td>Eosinophilic Esophagitis</td>\n",
       "      <td>C0341106</td>\n",
       "      <td>MedlinePlus</td>\n",
       "      <td>https://medlineplus.gov/eosinophilicesophagitis.html</td>\n",
       "      <td>11/05/2023 17:06:04</td>\n",
       "      <td>&lt;html id=\"health_topic\" class=\"us\" data-root=\"https://medlineplus.gov/\" lang=\"en\"&gt;&lt;head&gt;\\n\\n        &lt;meta charset=\"utf-8\"&gt;\\n        &lt;meta http-equiv=\"X-UA-Compatible\" content=\"IE=edge,chrome=1\"&gt;\\n        &lt;meta http-equiv=\"window-target\" content=\"_top\"&gt;\\n        &lt;meta http-equiv=\"Content-Type\" content=\"text/html; charset=UTF-8\"&gt;\\n        &lt;meta name=\"viewport\" content=\"width=device-width, initial-scale=1\"&gt;\\n\\n        \\n\\n        \\n\\n        &lt;link rel=\"canonical\" href=\"https://medlineplus.gov/e...</td>\n",
       "    </tr>\n",
       "    <tr>\n",
       "      <th>13345</th>\n",
       "      <td>Eosinophilic Esophagitis</td>\n",
       "      <td>C0341106</td>\n",
       "      <td>Merck Manuals</td>\n",
       "      <td>https://www.merckmanuals.com/professional/gastrointestinal-disorders/esophageal-and-swallowing-disorders/eosinophilic-esophagitis</td>\n",
       "      <td>12/05/2023 18:17:33</td>\n",
       "      <td>&lt;html dir=\"ltr\" style=\"\" class=\" no-touchevents flexbox flexwrap csscolumns csscolumns-width csscolumns-span csscolumns-fill csscolumns-gap csscolumns-rule csscolumns-rulecolor csscolumns-rulestyle csscolumns-rulewidth no-csscolumns-breakbefore no-csscolumns-breakafter no-csscolumns-breakinside\" lang=\"en-US\"&gt;&lt;head&gt;\\n    \\n&lt;link rel=\"preconnect\" href=\"https://cdn.cookielaw.org\"&gt;\\n&lt;link rel=\"preconnect\" href=\"https://www.googletagmanager.com\"&gt;\\n&lt;link href=\"https://cdn.cookielaw.org/scripttempl...</td>\n",
       "    </tr>\n",
       "  </tbody>\n",
       "</table>\n",
       "</div>"
      ],
      "text/plain": [
       "                        concept_name      cuis       source_name   \n",
       "2247        Eosinophilic Esophagitis  C0341106  Cleveland Clinic  \\\n",
       "6977   EE (Eosinophilic Esophagitis)                 DrugsDOTcom   \n",
       "10561       Eosinophilic Esophagitis  C0341106       MedlinePlus   \n",
       "13345       Eosinophilic Esophagitis  C0341106     Merck Manuals   \n",
       "\n",
       "                                                                                                                              source_url   \n",
       "2247                                                       https://my.clevelandclinic.org/health/diseases/14321-eosinophilic-esophagitis  \\\n",
       "6977                                                                       https://www.drugs.com/condition/eosinophilic-esophagitis.html   \n",
       "10561                                                                               https://medlineplus.gov/eosinophilicesophagitis.html   \n",
       "13345  https://www.merckmanuals.com/professional/gastrointestinal-disorders/esophageal-and-swallowing-disorders/eosinophilic-esophagitis   \n",
       "\n",
       "         date_time_scraped   \n",
       "2247   06/06/2023 19:26:46  \\\n",
       "6977   11/05/2023 19:43:43   \n",
       "10561  11/05/2023 17:06:04   \n",
       "13345  12/05/2023 18:17:33   \n",
       "\n",
       "                                                                                                                                                                                                                                                                                                                                                                                                                                                                                                                  raw_html  \n",
       "2247   <html dir=\"ltr\" lang=\"en\"><head>\\n<meta charset=\"utf-8\">\\n<meta name=\"viewport\" content=\"width=device-width, initial-scale=1.0\">\\n<link rel=\"preconnect\" href=\"https://fonts.googleapis.com\">\\n<link rel=\"preconnect\" href=\"https://fonts.gstatic.com\" crossorigin=\"\">\\n<link href=\"//fonts.googleapis.com/css2?family=Roboto+Condensed&amp;family=Roboto:wght@400;500;700;900&amp;display=swap\" rel=\"stylesheet\" as=\"style\" onload=\"this.rel='stylesheet'\">\\n<link rel=\"preload\" href=\"https://cdn.static.zdbb....  \n",
       "6977   <html lang=\"en\"><head>\\n<meta charset=\"utf-8\">\\n<title>List of 8 Eosinophilic Esophagitis Medications Compared - Drugs.com</title>\\n<meta name=\"viewport\" content=\"width=device-width, initial-scale=1\">\\n<meta name=\"description\" content=\"Compare risks and benefits of common medications used for Eosinophilic Esophagitis. Find the most popular drugs, view ratings and user reviews.\">\\n<meta name=\"referrer\" content=\"origin-when-cross-origin\">\\n<meta name=\"robots\" content=\"max-image-preview:large\">...  \n",
       "10561  <html id=\"health_topic\" class=\"us\" data-root=\"https://medlineplus.gov/\" lang=\"en\"><head>\\n\\n        <meta charset=\"utf-8\">\\n        <meta http-equiv=\"X-UA-Compatible\" content=\"IE=edge,chrome=1\">\\n        <meta http-equiv=\"window-target\" content=\"_top\">\\n        <meta http-equiv=\"Content-Type\" content=\"text/html; charset=UTF-8\">\\n        <meta name=\"viewport\" content=\"width=device-width, initial-scale=1\">\\n\\n        \\n\\n        \\n\\n        <link rel=\"canonical\" href=\"https://medlineplus.gov/e...  \n",
       "13345  <html dir=\"ltr\" style=\"\" class=\" no-touchevents flexbox flexwrap csscolumns csscolumns-width csscolumns-span csscolumns-fill csscolumns-gap csscolumns-rule csscolumns-rulecolor csscolumns-rulestyle csscolumns-rulewidth no-csscolumns-breakbefore no-csscolumns-breakafter no-csscolumns-breakinside\" lang=\"en-US\"><head>\\n    \\n<link rel=\"preconnect\" href=\"https://cdn.cookielaw.org\">\\n<link rel=\"preconnect\" href=\"https://www.googletagmanager.com\">\\n<link href=\"https://cdn.cookielaw.org/scripttempl...  "
      ]
     },
     "execution_count": 43,
     "metadata": {},
     "output_type": "execute_result"
    }
   ],
   "source": [
    "df[df[\"concept_name\"].str.contains(\"Eosinophilic Esophagitis\")]"
   ]
  },
  {
   "cell_type": "code",
   "execution_count": null,
   "id": "6c9ba66e",
   "metadata": {
    "tags": []
   },
   "outputs": [],
   "source": [
    "test_index = 8877\n",
    "print(df.iloc[test_index])\n",
    "source_differentiation(df.iloc[test_index].source_name,df.iloc[test_index].raw_html)"
   ]
  },
  {
   "cell_type": "code",
   "execution_count": 35,
   "id": "e6bfc2e8-c4a2-41c4-b294-a0f6776aed63",
   "metadata": {
    "tags": []
   },
   "outputs": [],
   "source": [
    "from tqdm import tqdm"
   ]
  },
  {
   "cell_type": "code",
   "execution_count": 36,
   "id": "f56d8fa9-fedc-4a06-b438-63786f923d7e",
   "metadata": {
    "tags": []
   },
   "outputs": [],
   "source": [
    "tqdm.pandas()"
   ]
  },
  {
   "cell_type": "code",
   "execution_count": 37,
   "id": "8362b007-37af-4c72-83d3-079999c400e9",
   "metadata": {
    "scrolled": true,
    "tags": []
   },
   "outputs": [
    {
     "name": "stderr",
     "output_type": "stream",
     "text": [
      " 11%|████████▌                                                                    | 9035/81200 [04:09<14:37, 82.21it/s]"
     ]
    },
    {
     "name": "stdout",
     "output_type": "stream",
     "text": [
      "Abdominal Pain\n",
      "Abscess in Breast\n",
      "ACL Tear\n"
     ]
    },
    {
     "name": "stderr",
     "output_type": "stream",
     "text": [
      " 11%|████████▌                                                                    | 9044/81200 [04:10<24:53, 48.32it/s]"
     ]
    },
    {
     "name": "stdout",
     "output_type": "stream",
     "text": [
      "Acute Respiratory Infection in Children\n",
      "Acute Liver Failure\n",
      "Adenoids\n",
      "Alcoholic Liver Disease\n",
      "Allergic Rhinitis\n",
      "Amblyopia\n",
      "Anal cancer\n",
      "Anal Fissure\n"
     ]
    },
    {
     "name": "stderr",
     "output_type": "stream",
     "text": [
      " 11%|████████▌                                                                    | 9051/81200 [04:10<37:48, 31.81it/s]"
     ]
    },
    {
     "name": "stdout",
     "output_type": "stream",
     "text": [
      "Anal Fistula\n",
      "Ankle Fracture\n",
      "Appendicitis\n",
      "Ankle Pain\n",
      "Arrhythmia\n",
      "Arteriovenous Malformations\n",
      "Ascites Fluid\n"
     ]
    },
    {
     "name": "stderr",
     "output_type": "stream",
     "text": [
      " 11%|████████▌                                                                    | 9057/81200 [04:10<44:45, 26.86it/s]"
     ]
    },
    {
     "name": "stdout",
     "output_type": "stream",
     "text": [
      "Axillary Breast Tissue\n",
      "Balanoposthitis\n",
      "Backache\n",
      "Bankart Injury\n"
     ]
    },
    {
     "name": "stderr",
     "output_type": "stream",
     "text": [
      " 11%|████████▌                                                                    | 9062/81200 [04:11<50:23, 23.86it/s]"
     ]
    },
    {
     "name": "stdout",
     "output_type": "stream",
     "text": [
      "Benign Paroxysmal Positional Vertigo BPPV\n",
      "Bile Duct Cancer\n",
      "Bone Fracture\n",
      "Blepharitis\n"
     ]
    },
    {
     "name": "stderr",
     "output_type": "stream",
     "text": [
      " 11%|████████▌                                                                    | 9066/81200 [04:11<54:19, 22.13it/s]"
     ]
    },
    {
     "name": "stdout",
     "output_type": "stream",
     "text": [
      "Breast Asymmetry\n",
      "Bladder Tumour\n",
      "Breast Lump\n",
      "Breech Delivery\n",
      "Budd Chiari Syndrome\n"
     ]
    },
    {
     "name": "stderr",
     "output_type": "stream",
     "text": [
      " 11%|████████▍                                                                  | 9072/81200 [04:11<1:00:04, 20.01it/s]"
     ]
    },
    {
     "name": "stdout",
     "output_type": "stream",
     "text": [
      "Carpal Tunnel Syndrome\n",
      "Cataract\n",
      "Cerebral Stroke\n",
      "Chalazion in Hindi\n"
     ]
    },
    {
     "name": "stderr",
     "output_type": "stream",
     "text": [
      " 11%|████████▍                                                                  | 9075/81200 [04:11<1:06:14, 18.15it/s]"
     ]
    },
    {
     "name": "stdout",
     "output_type": "stream",
     "text": [
      "Cervical Cancer\n",
      "Chalazion\n",
      "Chronic Kidney Disease\n",
      "Conjunctivitis Pink Eye\n",
      "Cholesteatoma\n"
     ]
    },
    {
     "name": "stderr",
     "output_type": "stream",
     "text": [
      " 11%|████████▍                                                                  | 9081/81200 [04:12<1:06:55, 17.96it/s]"
     ]
    },
    {
     "name": "stdout",
     "output_type": "stream",
     "text": [
      "Closed Fracture\n",
      "Congenital Ptosis\n",
      "Constipation\n",
      "Crohn's Disease\n",
      "Cyst Meaning\n"
     ]
    },
    {
     "name": "stderr",
     "output_type": "stream",
     "text": [
      " 11%|████████▍                                                                  | 9086/81200 [04:12<1:11:21, 16.84it/s]"
     ]
    },
    {
     "name": "stdout",
     "output_type": "stream",
     "text": [
      "Corneal Scarring\n",
      "Coronary Artery Disease\n",
      "Corneal Dystrophy\n",
      "Diabetic Foot\n"
     ]
    },
    {
     "name": "stderr",
     "output_type": "stream",
     "text": [
      " 11%|████████▍                                                                  | 9090/81200 [04:12<1:30:09, 13.33it/s]"
     ]
    },
    {
     "name": "stdout",
     "output_type": "stream",
     "text": [
      "CSF Leaks\n",
      "Diverticulitis\n",
      "Deviated Nasal Septum\n",
      "Diabetic Kidney Disease\n"
     ]
    },
    {
     "name": "stderr",
     "output_type": "stream",
     "text": [
      " 11%|████████▍                                                                  | 9094/81200 [04:13<1:29:03, 13.49it/s]"
     ]
    },
    {
     "name": "stdout",
     "output_type": "stream",
     "text": [
      "Ectopic Pregnancy\n",
      "Diabetic Retinopathy\n",
      "Droopy Eyelids\n"
     ]
    },
    {
     "name": "stderr",
     "output_type": "stream",
     "text": [
      " 11%|████████▍                                                                  | 9096/81200 [04:13<1:25:19, 14.08it/s]"
     ]
    },
    {
     "name": "stdout",
     "output_type": "stream",
     "text": [
      "Ear Canal Haemangioma\n",
      "Dystonia\n",
      "Epigastric Hernia\n"
     ]
    },
    {
     "name": "stderr",
     "output_type": "stream",
     "text": [
      " 11%|████████▍                                                                  | 9101/81200 [04:13<1:17:45, 15.45it/s]"
     ]
    },
    {
     "name": "stdout",
     "output_type": "stream",
     "text": [
      "Enlarged Prostate\n",
      "Erectile Dysfunction\n",
      "Endometriosis\n",
      "Eustachian Tube Dysfunction\n"
     ]
    },
    {
     "name": "stderr",
     "output_type": "stream",
     "text": [
      " 11%|████████▍                                                                  | 9103/81200 [04:13<1:37:13, 12.36it/s]"
     ]
    },
    {
     "name": "stdout",
     "output_type": "stream",
     "text": [
      "Excess Body Fat\n",
      "Epilepsy\n"
     ]
    },
    {
     "name": "stderr",
     "output_type": "stream",
     "text": [
      " 11%|████████▍                                                                  | 9105/81200 [04:14<1:41:39, 11.82it/s]"
     ]
    },
    {
     "name": "stdout",
     "output_type": "stream",
     "text": [
      "Erythroplakia\n",
      "Femoral Hernia\n",
      "Femur Fracture\n"
     ]
    },
    {
     "name": "stderr",
     "output_type": "stream",
     "text": [
      " 11%|████████▍                                                                  | 9109/81200 [04:14<1:54:02, 10.54it/s]"
     ]
    },
    {
     "name": "stdout",
     "output_type": "stream",
     "text": [
      "Frozen Shoulder\n",
      "Fibromyalgia\n",
      "Foot Pain\n"
     ]
    },
    {
     "name": "stderr",
     "output_type": "stream",
     "text": [
      " 11%|████████▍                                                                  | 9111/81200 [04:14<1:51:02, 10.82it/s]"
     ]
    },
    {
     "name": "stdout",
     "output_type": "stream",
     "text": [
      "Fracture\n",
      "Fibrous Dysplasia\n"
     ]
    },
    {
     "name": "stderr",
     "output_type": "stream",
     "text": [
      " 11%|████████▍                                                                  | 9113/81200 [04:15<2:08:23,  9.36it/s]"
     ]
    },
    {
     "name": "stdout",
     "output_type": "stream",
     "text": [
      "Gallbladder Cancer\n",
      "GERD\n",
      "Gallbladder Stone in Hindi\n"
     ]
    },
    {
     "name": "stderr",
     "output_type": "stream",
     "text": [
      " 11%|████████▍                                                                  | 9115/81200 [04:15<2:03:58,  9.69it/s]"
     ]
    },
    {
     "name": "stdout",
     "output_type": "stream",
     "text": [
      "Gallstones\n",
      "Ganglion Cyst\n"
     ]
    },
    {
     "name": "stderr",
     "output_type": "stream",
     "text": [
      " 11%|████████▍                                                                  | 9119/81200 [04:15<1:56:58, 10.27it/s]"
     ]
    },
    {
     "name": "stdout",
     "output_type": "stream",
     "text": [
      "Graves Ophthalmology\n",
      "Glaucoma\n",
      "Glomerular Disease\n"
     ]
    },
    {
     "name": "stderr",
     "output_type": "stream",
     "text": [
      " 11%|████████▍                                                                  | 9121/81200 [04:15<2:18:26,  8.68it/s]"
     ]
    },
    {
     "name": "stdout",
     "output_type": "stream",
     "text": [
      "Hair Loss\n",
      "Hair Transplant Trypophobia - Pictures, Causes, Symptoms, Treatment\n"
     ]
    },
    {
     "name": "stderr",
     "output_type": "stream",
     "text": [
      " 11%|████████▍                                                                  | 9123/81200 [04:16<2:13:46,  8.98it/s]"
     ]
    },
    {
     "name": "stdout",
     "output_type": "stream",
     "text": [
      "Goitre\n",
      "Gynaecomastia\n",
      "Hand Pain\n"
     ]
    },
    {
     "name": "stderr",
     "output_type": "stream",
     "text": [
      " 11%|████████▍                                                                  | 9127/81200 [04:16<1:45:15, 11.41it/s]"
     ]
    },
    {
     "name": "stdout",
     "output_type": "stream",
     "text": [
      "Hearing Loss\n",
      "Heart Attack\n",
      "Heart Failure\n",
      "Heart Valve Disease\n"
     ]
    },
    {
     "name": "stderr",
     "output_type": "stream",
     "text": [
      " 11%|████████▍                                                                  | 9130/81200 [04:16<1:36:06, 12.50it/s]"
     ]
    },
    {
     "name": "stdout",
     "output_type": "stream",
     "text": [
      "Hemifacial Spasm\n",
      "Hepatic Encephalopathy\n",
      "Hepatoblastoma\n"
     ]
    },
    {
     "name": "stderr",
     "output_type": "stream",
     "text": [
      " 11%|████████▍                                                                  | 9134/81200 [04:16<1:29:38, 13.40it/s]"
     ]
    },
    {
     "name": "stdout",
     "output_type": "stream",
     "text": [
      "Hernia\n",
      "Herniated Disc\n",
      "Hiatal Hernia\n"
     ]
    },
    {
     "name": "stderr",
     "output_type": "stream",
     "text": [
      " 11%|████████▍                                                                  | 9136/81200 [04:17<1:28:21, 13.59it/s]"
     ]
    },
    {
     "name": "stdout",
     "output_type": "stream",
     "text": [
      "Hip Fracture\n",
      "Hip Pain\n",
      "Hydrocele\n",
      "Hydronephrosis\n"
     ]
    },
    {
     "name": "stderr",
     "output_type": "stream",
     "text": [
      " 11%|████████▍                                                                  | 9142/81200 [04:17<1:15:35, 15.89it/s]"
     ]
    },
    {
     "name": "stdout",
     "output_type": "stream",
     "text": [
      "Hyperparathyroidism\n",
      "Hyperthyroidism\n",
      "Incisional Hernia\n",
      "Incomplete Abortion Risks Treatment\n",
      "Infertility\n"
     ]
    },
    {
     "name": "stderr",
     "output_type": "stream",
     "text": [
      " 11%|████████▍                                                                  | 9147/81200 [04:17<1:10:31, 17.03it/s]"
     ]
    },
    {
     "name": "stdout",
     "output_type": "stream",
     "text": [
      "Inflammatory Bowel Disease\n",
      "Ingrown Toenail\n",
      "Inguinal Hernia\n",
      "Intrauterine Death\n"
     ]
    },
    {
     "name": "stderr",
     "output_type": "stream",
     "text": [
      " 11%|████████▍                                                                  | 9152/81200 [04:17<1:11:04, 16.90it/s]"
     ]
    },
    {
     "name": "stdout",
     "output_type": "stream",
     "text": [
      "Irregular Periods\n",
      "Keratoconus\n",
      "Kidney failure\n",
      "Kidney Stone\n",
      "Knee Pain\n"
     ]
    },
    {
     "name": "stderr",
     "output_type": "stream",
     "text": [
      " 11%|████████▍                                                                  | 9154/81200 [04:18<1:16:55, 15.61it/s]"
     ]
    },
    {
     "name": "stdout",
     "output_type": "stream",
     "text": [
      "Kyphosis\n",
      "Labial hypertrophy\n",
      "Laryngopharyngeal Reflux Disease LPRD\n",
      "Lipoma\n"
     ]
    },
    {
     "name": "stderr",
     "output_type": "stream",
     "text": [
      " 11%|████████▍                                                                  | 9159/81200 [04:18<1:15:28, 15.91it/s]"
     ]
    },
    {
     "name": "stdout",
     "output_type": "stream",
     "text": [
      "Liver Cancer\n",
      "Liver Cirrhosis\n",
      "Liver Cysts\n",
      "Liver Haemangioma\n"
     ]
    },
    {
     "name": "stderr",
     "output_type": "stream",
     "text": [
      " 11%|████████▍                                                                  | 9165/81200 [04:18<1:12:04, 16.66it/s]"
     ]
    },
    {
     "name": "stdout",
     "output_type": "stream",
     "text": [
      "Liver Hepatitis\n",
      "Liver Spots Picture\n",
      "Lordosis\n",
      "Lower Respiratory Tract Infection\n",
      "Macular Degeneration\n"
     ]
    },
    {
     "name": "stderr",
     "output_type": "stream",
     "text": [
      " 11%|████████▍                                                                  | 9170/81200 [04:19<1:10:33, 17.01it/s]"
     ]
    },
    {
     "name": "stdout",
     "output_type": "stream",
     "text": [
      "Mastoiditis\n",
      "Meniere’s disease\n",
      "Menorrhagia\n",
      "Myocardial Infarction\n",
      "Nasal Deformity\n"
     ]
    },
    {
     "name": "stderr",
     "output_type": "stream",
     "text": [
      " 11%|████████▍                                                                  | 9172/81200 [04:19<1:16:50, 15.62it/s]"
     ]
    },
    {
     "name": "stdout",
     "output_type": "stream",
     "text": [
      "Nasal Polyp\n",
      "Nephrotic Syndrome\n",
      "Optic Nerve Disorder\n",
      "Oral cancer\n"
     ]
    },
    {
     "name": "stderr",
     "output_type": "stream",
     "text": [
      " 11%|████████▍                                                                  | 9177/81200 [04:19<1:15:22, 15.93it/s]"
     ]
    },
    {
     "name": "stdout",
     "output_type": "stream",
     "text": [
      "Osteoarthritis Hip\n",
      "Osteoarthritis Knee\n",
      "Osteoarthritis\n",
      "Osteoporosis\n"
     ]
    },
    {
     "name": "stderr",
     "output_type": "stream",
     "text": [
      " 11%|████████▍                                                                  | 9180/81200 [04:19<1:19:50, 15.03it/s]"
     ]
    },
    {
     "name": "stdout",
     "output_type": "stream",
     "text": [
      "Otitis Media\n",
      "Otosclerosis\n",
      "Ovarian Cancer\n"
     ]
    },
    {
     "name": "stderr",
     "output_type": "stream",
     "text": [
      " 11%|████████▍                                                                  | 9185/81200 [04:20<1:15:10, 15.97it/s]"
     ]
    },
    {
     "name": "stdout",
     "output_type": "stream",
     "text": [
      "Ovarian Cyst\n",
      "Paget’s Disease\n",
      "PCL Tear\n",
      "PCOS\n"
     ]
    },
    {
     "name": "stderr",
     "output_type": "stream",
     "text": [
      " 11%|████████▍                                                                  | 9189/81200 [04:20<1:17:47, 15.43it/s]"
     ]
    },
    {
     "name": "stdout",
     "output_type": "stream",
     "text": [
      "Perforated Eardrum\n",
      "Perianal Abscess\n",
      "Perichondritis\n",
      "Phimosis\n"
     ]
    },
    {
     "name": "stderr",
     "output_type": "stream",
     "text": [
      " 11%|████████▍                                                                  | 9191/81200 [04:20<1:17:07, 15.56it/s]"
     ]
    },
    {
     "name": "stdout",
     "output_type": "stream",
     "text": [
      "Piles\n",
      "Pilonidal Sinus\n",
      "Placenta Previa\n",
      "Pregnancy\n"
     ]
    },
    {
     "name": "stderr",
     "output_type": "stream",
     "text": [
      " 11%|████████▍                                                                  | 9196/81200 [04:20<1:15:30, 15.89it/s]"
     ]
    },
    {
     "name": "stdout",
     "output_type": "stream",
     "text": [
      "Prostate Cancer\n",
      "Pterygium\n",
      "Ptosis\n",
      "Rectal Cancer\n"
     ]
    },
    {
     "name": "stderr",
     "output_type": "stream",
     "text": [
      " 11%|████████▍                                                                  | 9200/81200 [04:21<1:14:44, 16.06it/s]"
     ]
    },
    {
     "name": "stdout",
     "output_type": "stream",
     "text": [
      "Rectovaginal Fistula\n",
      "Rectal Prolapse\n",
      "Refractive Errors\n",
      "Retinal Detachment\n"
     ]
    },
    {
     "name": "stderr",
     "output_type": "stream",
     "text": [
      " 11%|████████▌                                                                  | 9203/81200 [04:21<1:17:21, 15.51it/s]"
     ]
    },
    {
     "name": "stdout",
     "output_type": "stream",
     "text": [
      "Retinopathy of Prematurity\n",
      "Rheumatoid Arthritis\n",
      "Rhinosinusitis\n"
     ]
    },
    {
     "name": "stderr",
     "output_type": "stream",
     "text": [
      " 11%|████████▌                                                                  | 9206/81200 [04:21<1:10:06, 17.11it/s]"
     ]
    },
    {
     "name": "stdout",
     "output_type": "stream",
     "text": [
      "Rosacea\n",
      "Rotator Cuff Tear\n",
      "Sagging Abdomen\n"
     ]
    },
    {
     "name": "stderr",
     "output_type": "stream",
     "text": [
      " 11%|████████▌                                                                  | 9211/81200 [04:21<1:09:20, 17.30it/s]"
     ]
    },
    {
     "name": "stdout",
     "output_type": "stream",
     "text": [
      "Sagging Breasts\n",
      "Scoliosis\n",
      "Sebaceous Cyst\n",
      "Shoulder Fracture\n"
     ]
    },
    {
     "name": "stderr",
     "output_type": "stream",
     "text": [
      " 11%|████████▌                                                                  | 9216/81200 [04:22<1:10:26, 17.03it/s]"
     ]
    },
    {
     "name": "stdout",
     "output_type": "stream",
     "text": [
      "Shoulder Impingement\n",
      "Sinusitis\n",
      "Skin Tag\n",
      "Skin Warts\n",
      "Sleep Apnoea\n"
     ]
    },
    {
     "name": "stderr",
     "output_type": "stream",
     "text": [
      " 11%|████████▌                                                                  | 9218/81200 [04:22<1:21:06, 14.79it/s]"
     ]
    },
    {
     "name": "stdout",
     "output_type": "stream",
     "text": [
      "Soft Tissue Injuries\n",
      "Sol in Liver\n",
      "Spinal Tumor\n",
      "Sprained Ankle\n"
     ]
    },
    {
     "name": "stderr",
     "output_type": "stream",
     "text": [
      " 11%|████████▌                                                                  | 9224/81200 [04:22<1:11:42, 16.73it/s]"
     ]
    },
    {
     "name": "stdout",
     "output_type": "stream",
     "text": [
      "Squint\n",
      "Tennis Elbow\n",
      "Testicular Tumour\n",
      "Thyroid Cancer\n",
      "Tongue Cancer\n"
     ]
    },
    {
     "name": "stderr",
     "output_type": "stream",
     "text": [
      " 11%|████████▌                                                                  | 9229/81200 [04:22<1:10:11, 17.09it/s]"
     ]
    },
    {
     "name": "stdout",
     "output_type": "stream",
     "text": [
      "Thyroid Nodule\n",
      "Tongue Ulcers\n",
      "Tonsillitis\n",
      "Torn Hymen\n"
     ]
    },
    {
     "name": "stderr",
     "output_type": "stream",
     "text": [
      " 11%|████████▌                                                                  | 9234/81200 [04:23<1:09:04, 17.36it/s]"
     ]
    },
    {
     "name": "stdout",
     "output_type": "stream",
     "text": [
      "Total Anomalous Pulmonary Venous Return TAPVR\n",
      "Tuberous Breast\n",
      "UCL Ligament Injury\n",
      "Ulcerative Colitis\n",
      "Umbilical Hernia\n"
     ]
    },
    {
     "name": "stderr",
     "output_type": "stream",
     "text": [
      " 11%|████████▌                                                                  | 9239/81200 [04:23<1:07:56, 17.65it/s]"
     ]
    },
    {
     "name": "stdout",
     "output_type": "stream",
     "text": [
      "Unwanted Pregnancy\n",
      "Urethral Stricture\n",
      "Urinary Bladder Stone\n",
      "Urinary Incontinence\n",
      "Uterine cancer\n"
     ]
    },
    {
     "name": "stderr",
     "output_type": "stream",
     "text": [
      " 11%|████████▌                                                                  | 9244/81200 [04:23<1:08:15, 17.57it/s]"
     ]
    },
    {
     "name": "stdout",
     "output_type": "stream",
     "text": [
      "Uterine Fibroids\n",
      "Uterine Polyps\n",
      "Uveitis\n",
      "Vaginal Discharge\n",
      "Vaginal Laxity\n"
     ]
    },
    {
     "name": "stderr",
     "output_type": "stream",
     "text": [
      " 11%|████████▌                                                                  | 9246/81200 [04:23<1:14:42, 16.05it/s]"
     ]
    },
    {
     "name": "stdout",
     "output_type": "stream",
     "text": [
      "Vaginal Prolapse\n",
      "Varicocele\n",
      "Varicose Veins\n",
      "Ventral Hernia\n"
     ]
    },
    {
     "name": "stderr",
     "output_type": "stream",
     "text": [
      " 11%|████████▌                                                                  | 9252/81200 [04:24<1:08:10, 17.59it/s]"
     ]
    },
    {
     "name": "stdout",
     "output_type": "stream",
     "text": [
      "Viral Fever Symptoms\n",
      "Vitreous haemorrhage\n",
      "Vocal Cord Paralysis\n"
     ]
    },
    {
     "name": "stderr",
     "output_type": "stream",
     "text": [
      " 13%|█████████▊                                                                  | 10474/81200 [05:52<23:53, 49.34it/s]"
     ]
    },
    {
     "name": "stdout",
     "output_type": "stream",
     "text": [
      "Corneal Disorders\n"
     ]
    },
    {
     "name": "stderr",
     "output_type": "stream",
     "text": [
      " 13%|█████████▊                                                                  | 10538/81200 [05:55<38:24, 30.66it/s]"
     ]
    },
    {
     "name": "stdout",
     "output_type": "stream",
     "text": [
      "Dry Mouth\n"
     ]
    },
    {
     "name": "stderr",
     "output_type": "stream",
     "text": [
      " 13%|█████████▉                                                                  | 10555/81200 [05:55<31:22, 37.52it/s]"
     ]
    },
    {
     "name": "stdout",
     "output_type": "stream",
     "text": [
      "Edema\n"
     ]
    },
    {
     "name": "stderr",
     "output_type": "stream",
     "text": [
      " 13%|█████████▉                                                                  | 10568/81200 [05:56<35:31, 33.14it/s]"
     ]
    },
    {
     "name": "stdout",
     "output_type": "stream",
     "text": [
      "Eosinophilic Esophagitis\n",
      "Esophageal Cancer\n"
     ]
    },
    {
     "name": "stderr",
     "output_type": "stream",
     "text": [
      " 13%|█████████▉                                                                  | 10577/81200 [05:56<39:38, 29.69it/s]"
     ]
    },
    {
     "name": "stdout",
     "output_type": "stream",
     "text": [
      "Exercise and Physical Fitness\n",
      "Eye Infections\n"
     ]
    },
    {
     "name": "stderr",
     "output_type": "stream",
     "text": [
      "\n",
      "\n",
      "KeyboardInterrupt\n",
      "\n"
     ]
    }
   ],
   "source": [
    "df[\"clean_text\"] = df.progress_apply(lambda x: source_differentiation(x.source_name,x.raw_html,x.concept_name),axis=1)"
   ]
  },
  {
   "cell_type": "code",
   "execution_count": null,
   "id": "0e7efa7b-c009-4940-906b-5b146c949170",
   "metadata": {
    "scrolled": true,
    "tags": []
   },
   "outputs": [],
   "source": []
  }
 ],
 "metadata": {
  "kernelspec": {
   "display_name": "Python 3 (ipykernel)",
   "language": "python",
   "name": "python3"
  },
  "language_info": {
   "codemirror_mode": {
    "name": "ipython",
    "version": 3
   },
   "file_extension": ".py",
   "mimetype": "text/x-python",
   "name": "python",
   "nbconvert_exporter": "python",
   "pygments_lexer": "ipython3",
   "version": "3.10.11"
  }
 },
 "nbformat": 4,
 "nbformat_minor": 5
}
