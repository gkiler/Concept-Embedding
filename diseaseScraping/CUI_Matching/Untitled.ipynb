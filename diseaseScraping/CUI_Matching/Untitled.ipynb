{
 "cells": [
  {
   "cell_type": "code",
   "execution_count": 69,
   "id": "ad2f5225-39a4-4fd2-a52e-c75cef5c37a2",
   "metadata": {
    "tags": []
   },
   "outputs": [],
   "source": [
    "inputfile = \"drug_names.txt\""
   ]
  },
  {
   "cell_type": "code",
   "execution_count": 70,
   "id": "8fb4a31c-94ed-4264-8f50-06c2e992a128",
   "metadata": {
    "tags": []
   },
   "outputs": [],
   "source": [
    "import re\n",
    "import numpy as np"
   ]
  },
  {
   "cell_type": "code",
   "execution_count": 71,
   "id": "8ae90598-07c5-4f83-ba99-4c2ce0b801f0",
   "metadata": {
    "tags": []
   },
   "outputs": [
    {
     "data": {
      "text/plain": [
       "'C:\\\\Users\\\\gwenk\\\\OneDrive\\\\Documents\\\\Research\\\\Scraping\\\\MetaMap\\\\public_mm'"
      ]
     },
     "execution_count": 71,
     "metadata": {},
     "output_type": "execute_result"
    }
   ],
   "source": [
    "import os\n",
    "os.getcwd()"
   ]
  },
  {
   "cell_type": "code",
   "execution_count": 72,
   "id": "30fce9ef-daa2-426e-8d18-99c7ca33cfca",
   "metadata": {},
   "outputs": [],
   "source": [
    "os.chdir(\"C:\\\\Users\\\\gwenk\\\\OneDrive\\\\Documents\\\\Research\\\\Scraping\\\\MetaMap\\\\public_mm\")"
   ]
  },
  {
   "cell_type": "code",
   "execution_count": 73,
   "id": "4b3ffb09-4a12-45cc-834b-1f5f1c1c40b6",
   "metadata": {
    "tags": []
   },
   "outputs": [
    {
     "data": {
      "text/plain": [
       "['Esoterica Sensitive Skin',\n",
       " 'femstat',\n",
       " 'doliracetam',\n",
       " 'Ciprofloxacin Extended Release Tablets',\n",
       " 'Avar-E Emollient',\n",
       " 'kcentra kit',\n",
       " 'CELESTONE ',\n",
       " 'flubendazole',\n",
       " 'aloe vera gel',\n",
       " 'CMV-IGIV']"
      ]
     },
     "execution_count": 73,
     "metadata": {},
     "output_type": "execute_result"
    }
   ],
   "source": [
    "string_list = []\n",
    "\n",
    "with open(inputfile, encoding='utf-8') as f:\n",
    "    for line in f:\n",
    "        if line.isspace() is False:    \n",
    "            string = line.strip()\n",
    "            string = re.sub(r'/', ' ', string)\n",
    "            string = re.sub(r':.*', '', string)\n",
    "            string = re.sub(r'—.*', '', string)\n",
    "            string = re.sub(r'\\([^)]*\\)', '', string)\n",
    "            string = re.sub(r'[^,\\-a-zA-Z0-9 ]', '', string)\n",
    "            string_list.append(string)\n",
    "        else:\n",
    "            continue\n",
    "string_list[:10]"
   ]
  },
  {
   "cell_type": "code",
   "execution_count": 74,
   "id": "767cf982-a36e-464e-9d47-d46e3076aee6",
   "metadata": {
    "tags": []
   },
   "outputs": [],
   "source": [
    "outputfile = \"drug_names_clean\""
   ]
  },
  {
   "cell_type": "code",
   "execution_count": 75,
   "id": "9924ddc8-22ed-4224-a0bf-e564520b04f1",
   "metadata": {
    "tags": []
   },
   "outputs": [],
   "source": [
    "string_list = np.array(string_list)"
   ]
  },
  {
   "cell_type": "code",
   "execution_count": 76,
   "id": "4178faca-ac07-46c3-9210-77d8e7cd5747",
   "metadata": {
    "tags": []
   },
   "outputs": [
    {
     "data": {
      "text/plain": [
       "10"
      ]
     },
     "execution_count": 76,
     "metadata": {},
     "output_type": "execute_result"
    }
   ],
   "source": [
    "len(string_lists)"
   ]
  },
  {
   "cell_type": "code",
   "execution_count": 77,
   "id": "abc63f70-7e46-4549-b52b-d9e4faed7e20",
   "metadata": {
    "tags": []
   },
   "outputs": [],
   "source": [
    "import os"
   ]
  },
  {
   "cell_type": "code",
   "execution_count": 78,
   "id": "72c62923-bbb2-4d57-97e8-9ffa75dcd1ee",
   "metadata": {
    "tags": []
   },
   "outputs": [],
   "source": [
    "with open(outputfile+\".txt\", 'w', encoding='ascii') as o:\n",
    "    for string in lis:\n",
    "        o.write(f\"{string}\\n\")"
   ]
  }
 ],
 "metadata": {
  "kernelspec": {
   "display_name": "Python 3 (ipykernel)",
   "language": "python",
   "name": "python3"
  },
  "language_info": {
   "codemirror_mode": {
    "name": "ipython",
    "version": 3
   },
   "file_extension": ".py",
   "mimetype": "text/x-python",
   "name": "python",
   "nbconvert_exporter": "python",
   "pygments_lexer": "ipython3",
   "version": "3.10.11"
  }
 },
 "nbformat": 4,
 "nbformat_minor": 5
}
