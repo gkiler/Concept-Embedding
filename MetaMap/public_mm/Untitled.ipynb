{
 "cells": [
  {
   "cell_type": "code",
   "execution_count": 1,
   "id": "63b64a2b-815e-4f01-b0e5-0be532a1b049",
   "metadata": {
    "tags": []
   },
   "outputs": [],
   "source": [
    "import pyarrow\n",
    "import pandas as pd"
   ]
  },
  {
   "cell_type": "code",
   "execution_count": 2,
   "id": "7a489321-779e-4562-bdfd-828dfbab1aac",
   "metadata": {
    "tags": []
   },
   "outputs": [],
   "source": [
    "df_drug = pd.read_parquet(\"Drug_CUI_Mappings.parquet\",engine='pyarrow')"
   ]
  },
  {
   "cell_type": "code",
   "execution_count": 3,
   "id": "35669aef-7b43-4383-8889-1e2e8a396a6f",
   "metadata": {
    "tags": []
   },
   "outputs": [],
   "source": [
    "df_disease = pd.read_parquet(\"Disease_CUI_Mappings.parquet\",engine='pyarrow')"
   ]
  },
  {
   "cell_type": "code",
   "execution_count": 4,
   "id": "03327d05-86dd-4e98-873c-aaab3a107c1a",
   "metadata": {
    "tags": []
   },
   "outputs": [],
   "source": [
    "df_leftover = pd.read_parquet(\"leftover_cuis_CUI_Mappings.parquet\",engine='pyarrow')"
   ]
  },
  {
   "cell_type": "code",
   "execution_count": 6,
   "id": "241a5a96-9ab4-4c4b-aecd-099121d7aade",
   "metadata": {
    "tags": []
   },
   "outputs": [
    {
     "data": {
      "text/html": [
       "<div>\n",
       "<style scoped>\n",
       "    .dataframe tbody tr th:only-of-type {\n",
       "        vertical-align: middle;\n",
       "    }\n",
       "\n",
       "    .dataframe tbody tr th {\n",
       "        vertical-align: top;\n",
       "    }\n",
       "\n",
       "    .dataframe thead th {\n",
       "        text-align: right;\n",
       "    }\n",
       "</style>\n",
       "<table border=\"1\" class=\"dataframe\">\n",
       "  <thead>\n",
       "    <tr style=\"text-align: right;\">\n",
       "      <th></th>\n",
       "      <th>string_id</th>\n",
       "      <th>cui</th>\n",
       "    </tr>\n",
       "  </thead>\n",
       "  <tbody>\n",
       "    <tr>\n",
       "      <th>0</th>\n",
       "      <td>acne keloidalis nuchae</td>\n",
       "      <td>C0702166, C0001144, C0406631</td>\n",
       "    </tr>\n",
       "    <tr>\n",
       "      <th>1</th>\n",
       "      <td>acne scars</td>\n",
       "      <td>C0702166, C0001144, C2004491, C0241158</td>\n",
       "    </tr>\n",
       "    <tr>\n",
       "      <th>2</th>\n",
       "      <td>actinic keratosis</td>\n",
       "      <td>C0022602</td>\n",
       "    </tr>\n",
       "    <tr>\n",
       "      <th>3</th>\n",
       "      <td>alopecia areata</td>\n",
       "      <td>C0002170, C0002171</td>\n",
       "    </tr>\n",
       "    <tr>\n",
       "      <th>4</th>\n",
       "      <td>athletes foot</td>\n",
       "      <td>C0040259</td>\n",
       "    </tr>\n",
       "    <tr>\n",
       "      <th>...</th>\n",
       "      <td>...</td>\n",
       "      <td>...</td>\n",
       "    </tr>\n",
       "    <tr>\n",
       "      <th>88011</th>\n",
       "      <td>kerafoam foam</td>\n",
       "      <td>C1706744, C0991510, C1873783, C0280592</td>\n",
       "    </tr>\n",
       "    <tr>\n",
       "      <th>88012</th>\n",
       "      <td>R-P Mycin</td>\n",
       "      <td>C2603358, C0684010, C0205090</td>\n",
       "    </tr>\n",
       "    <tr>\n",
       "      <th>88013</th>\n",
       "      <td>aranidipine</td>\n",
       "      <td>C0165312</td>\n",
       "    </tr>\n",
       "    <tr>\n",
       "      <th>88014</th>\n",
       "      <td>Alfentanil</td>\n",
       "      <td>C0002026</td>\n",
       "    </tr>\n",
       "    <tr>\n",
       "      <th>88015</th>\n",
       "      <td>Maginex</td>\n",
       "      <td>C1813854</td>\n",
       "    </tr>\n",
       "  </tbody>\n",
       "</table>\n",
       "<p>88016 rows × 2 columns</p>\n",
       "</div>"
      ],
      "text/plain": [
       "                    string_id                                     cui\n",
       "0      acne keloidalis nuchae            C0702166, C0001144, C0406631\n",
       "1                  acne scars  C0702166, C0001144, C2004491, C0241158\n",
       "2           actinic keratosis                                C0022602\n",
       "3             alopecia areata                      C0002170, C0002171\n",
       "4               athletes foot                                C0040259\n",
       "...                       ...                                     ...\n",
       "88011           kerafoam foam  C1706744, C0991510, C1873783, C0280592\n",
       "88012               R-P Mycin            C2603358, C0684010, C0205090\n",
       "88013             aranidipine                                C0165312\n",
       "88014              Alfentanil                                C0002026\n",
       "88015                 Maginex                                C1813854\n",
       "\n",
       "[88016 rows x 2 columns]"
      ]
     },
     "execution_count": 6,
     "metadata": {},
     "output_type": "execute_result"
    }
   ],
   "source": [
    "df = pd.concat([df_disease,df_leftover,df_drug],ignore_index=True)\n",
    "df"
   ]
  },
  {
   "cell_type": "code",
   "execution_count": 7,
   "id": "36715615-71f3-422d-8078-1b3467496a96",
   "metadata": {
    "tags": []
   },
   "outputs": [
    {
     "data": {
      "text/plain": [
       "0                      Esoterica Sensitive Skin\n",
       "1                                       femstat\n",
       "2                                   doliracetam\n",
       "3        Ciprofloxacin Extended Release Tablets\n",
       "4                              Avar-E Emollient\n",
       "                          ...                  \n",
       "55308                                  Incassia\n",
       "55321                                     ADBRY\n",
       "55337                                  Pylarify\n",
       "55347                                  Amohexal\n",
       "55384                                    Hydone\n",
       "Name: string_id, Length: 5006, dtype: object"
      ]
     },
     "execution_count": 7,
     "metadata": {},
     "output_type": "execute_result"
    }
   ],
   "source": [
    "df_drug[df_drug['cui'] == '']['string_id']"
   ]
  },
  {
   "cell_type": "code",
   "execution_count": 18,
   "id": "0efd8b23-51e4-4df5-ad8c-7d5fc77fda54",
   "metadata": {
    "tags": []
   },
   "outputs": [],
   "source": [
    "df = pd.concat([df_disease[df_disease[\"cui\"] == \"\"][\"string_id\"],df_drug[df_drug['cui'] == '']['string_id']])"
   ]
  },
  {
   "cell_type": "code",
   "execution_count": 20,
   "id": "829e35c8-e7ff-4534-95b8-b978a6c1ac8b",
   "metadata": {
    "tags": []
   },
   "outputs": [],
   "source": [
    "filename = \"leftover_cuis.txt\""
   ]
  },
  {
   "cell_type": "code",
   "execution_count": 21,
   "id": "4cc8abdc-c9eb-47c2-851e-c9081868e70b",
   "metadata": {
    "tags": []
   },
   "outputs": [],
   "source": [
    "with open(filename, 'w') as file:\n",
    "    for item in df:\n",
    "        file.write(str(item) + '\\n')"
   ]
  },
  {
   "cell_type": "code",
   "execution_count": 22,
   "id": "1952f5c1-e05b-491c-a7b4-d0ae49df03e0",
   "metadata": {
    "tags": []
   },
   "outputs": [],
   "source": [
    "import wikipediaapi"
   ]
  },
  {
   "cell_type": "code",
   "execution_count": 24,
   "id": "28ffb256-04b1-4d21-a887-8944287b5c01",
   "metadata": {
    "tags": []
   },
   "outputs": [],
   "source": [
    "wiki_wiki = wikipediaapi.Wikipedia(\"umls search\",'en')"
   ]
  },
  {
   "cell_type": "code",
   "execution_count": 25,
   "id": "dbf57ca6-823f-4b6f-95e8-b0911d96fcfc",
   "metadata": {
    "tags": []
   },
   "outputs": [
    {
     "ename": "AttributeError",
     "evalue": "'Wikipedia' object has no attribute 'search'",
     "output_type": "error",
     "traceback": [
      "\u001b[1;31m---------------------------------------------------------------------------\u001b[0m",
      "\u001b[1;31mAttributeError\u001b[0m                            Traceback (most recent call last)",
      "Cell \u001b[1;32mIn[25], line 1\u001b[0m\n\u001b[1;32m----> 1\u001b[0m \u001b[43mwiki_wiki\u001b[49m\u001b[38;5;241;43m.\u001b[39;49m\u001b[43msearch\u001b[49m(\u001b[38;5;124m\"\u001b[39m\u001b[38;5;124mibiprofen\u001b[39m\u001b[38;5;124m\"\u001b[39m)\n",
      "\u001b[1;31mAttributeError\u001b[0m: 'Wikipedia' object has no attribute 'search'"
     ]
    }
   ],
   "source": [
    "wiki_wiki.search(\"ibiprofen\")"
   ]
  }
 ],
 "metadata": {
  "kernelspec": {
   "display_name": "Python 3 (ipykernel)",
   "language": "python",
   "name": "python3"
  },
  "language_info": {
   "codemirror_mode": {
    "name": "ipython",
    "version": 3
   },
   "file_extension": ".py",
   "mimetype": "text/x-python",
   "name": "python",
   "nbconvert_exporter": "python",
   "pygments_lexer": "ipython3",
   "version": "3.10.11"
  }
 },
 "nbformat": 4,
 "nbformat_minor": 5
}
