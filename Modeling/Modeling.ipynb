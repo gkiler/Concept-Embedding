{
 "cells": [
  {
   "cell_type": "code",
   "execution_count": 1,
   "id": "3218f9c8-0466-4129-9280-3f8c6e89ad8d",
   "metadata": {
    "tags": []
   },
   "outputs": [],
   "source": [
    "import pandas as pd\n",
    "import numpy as np\n",
    "import pyarrow\n",
    "from tqdm import tqdm\n",
    "import csv\n",
    "import cython"
   ]
  },
  {
   "cell_type": "code",
   "execution_count": 2,
   "id": "e10eed7e-0088-493e-bbc3-c417754bee8a",
   "metadata": {
    "tags": []
   },
   "outputs": [],
   "source": [
    "dataframes = []\n",
    "for i in range(0,4):\n",
    "    df = pd.read_parquet(f\"Extended_CUI_Definitions_pt{i}.parquet\",engine='pyarrow')\n",
    "    dataframes.append(df)\n",
    "df = pd.concat(dataframes,ignore_index=True)"
   ]
  },
  {
   "cell_type": "code",
   "execution_count": 3,
   "id": "3004a119-e2d4-4845-972c-f998acb5cbff",
   "metadata": {
    "tags": []
   },
   "outputs": [],
   "source": [
    "from gensim.test.utils import datapath\n",
    "from gensim import utils\n",
    "from gensim.parsing.preprocessing import preprocess_string\n",
    "import gensim.parsing.preprocessing as proc\n",
    "from gensim.models import Word2Vec\n",
    "from gensim.models import Phrases\n",
    "from gensim.utils import simple_preprocess\n",
    "\n",
    "\n",
    "\n",
    "class UMLSWiki:\n",
    "    \"\"\"An iterator that yields sentences (lists of str).\"\"\"\n",
    "\n",
    "    def __iter__(self):\n",
    "        print(\"Starting a loop...\")\n",
    "        for row in tqdm(df.itertuples(),total=len(df.index)):\n",
    "            yield proc.remove_stopwords(proc.strip_punctuation(row[2].lower())).split()\n",
    "                    # yield proc.strip_punctuation(line.lower()).split()\n",
    "        print(\"Done with one full loop\")"
   ]
  },
  {
   "cell_type": "code",
   "execution_count": 4,
   "id": "65dc9dc6-25d3-4c9c-ba0c-e4f7b1ffa355",
   "metadata": {
    "tags": []
   },
   "outputs": [],
   "source": [
    "import gensim.models\n",
    "sentences = UMLSWiki()"
   ]
  },
  {
   "cell_type": "code",
   "execution_count": 5,
   "id": "23d25b1b-dd63-4930-b097-748aacb0d8a8",
   "metadata": {
    "tags": []
   },
   "outputs": [],
   "source": [
    "assert gensim.models.doc2vec.FAST_VERSION > -1"
   ]
  },
  {
   "cell_type": "code",
   "execution_count": 6,
   "id": "9e972552-e805-4084-886e-52f32e4d7b31",
   "metadata": {
    "tags": []
   },
   "outputs": [
    {
     "name": "stdout",
     "output_type": "stream",
     "text": [
      "Starting a loop...\n"
     ]
    },
    {
     "name": "stderr",
     "output_type": "stream",
     "text": [
      "100%|███████████████████████████████████████████████████████████████████████| 1305493/1305493 [56:18<00:00, 386.44it/s]\n"
     ]
    },
    {
     "name": "stdout",
     "output_type": "stream",
     "text": [
      "Done with one full loop\n",
      "Starting a loop...\n"
     ]
    },
    {
     "name": "stderr",
     "output_type": "stream",
     "text": [
      "100%|█████████████████████████████████████████████████████████████████████| 1305493/1305493 [1:31:06<00:00, 238.82it/s]\n"
     ]
    },
    {
     "name": "stdout",
     "output_type": "stream",
     "text": [
      "Done with one full loop\n",
      "Starting a loop...\n"
     ]
    },
    {
     "name": "stderr",
     "output_type": "stream",
     "text": [
      "100%|█████████████████████████████████████████████████████████████████████| 1305493/1305493 [1:36:00<00:00, 226.63it/s]\n"
     ]
    },
    {
     "name": "stdout",
     "output_type": "stream",
     "text": [
      "Done with one full loop\n",
      "Starting a loop...\n"
     ]
    },
    {
     "name": "stderr",
     "output_type": "stream",
     "text": [
      "100%|█████████████████████████████████████████████████████████████████████| 1305493/1305493 [1:32:01<00:00, 236.45it/s]\n"
     ]
    },
    {
     "name": "stdout",
     "output_type": "stream",
     "text": [
      "Done with one full loop\n",
      "Starting a loop...\n"
     ]
    },
    {
     "name": "stderr",
     "output_type": "stream",
     "text": [
      "100%|█████████████████████████████████████████████████████████████████████| 1305493/1305493 [1:36:13<00:00, 226.13it/s]\n"
     ]
    },
    {
     "name": "stdout",
     "output_type": "stream",
     "text": [
      "Done with one full loop\n",
      "Starting a loop...\n"
     ]
    },
    {
     "name": "stderr",
     "output_type": "stream",
     "text": [
      "100%|█████████████████████████████████████████████████████████████████████| 1305493/1305493 [1:33:28<00:00, 232.78it/s]\n"
     ]
    },
    {
     "name": "stdout",
     "output_type": "stream",
     "text": [
      "Done with one full loop\n"
     ]
    }
   ],
   "source": [
    "model = gensim.models.Word2Vec(sentences=sentences,vector_size=300,workers=12,min_count=1,sg=1,hs=1,epochs=5,batch_words=10_000)"
   ]
  },
  {
   "cell_type": "markdown",
   "id": "99c4bcb4-fb38-4d6b-8791-e3ee060f4cc8",
   "metadata": {},
   "source": []
  },
  {
   "cell_type": "code",
   "execution_count": 7,
   "id": "5019c91a-383b-4676-8686-ff7fd09347be",
   "metadata": {
    "tags": []
   },
   "outputs": [],
   "source": [
    "model.save(\"word2vecmodel\")"
   ]
  },
  {
   "cell_type": "code",
   "execution_count": null,
   "id": "52603a04-1cf8-4ba3-9a61-1117352ef845",
   "metadata": {},
   "outputs": [],
   "source": []
  }
 ],
 "metadata": {
  "kernelspec": {
   "display_name": "Python 3 (ipykernel)",
   "language": "python",
   "name": "python3"
  },
  "language_info": {
   "codemirror_mode": {
    "name": "ipython",
    "version": 3
   },
   "file_extension": ".py",
   "mimetype": "text/x-python",
   "name": "python",
   "nbconvert_exporter": "python",
   "pygments_lexer": "ipython3",
   "version": "3.10.11"
  }
 },
 "nbformat": 4,
 "nbformat_minor": 5
}
