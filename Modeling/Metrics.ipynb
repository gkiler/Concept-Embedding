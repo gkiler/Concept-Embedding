{
 "cells": [
  {
   "cell_type": "code",
   "execution_count": 1,
   "id": "7aa4235e-0e83-4f07-9963-c9c969b2a916",
   "metadata": {
    "tags": []
   },
   "outputs": [],
   "source": [
    "import pandas as pd\n",
    "import numpy as np"
   ]
  },
  {
   "cell_type": "code",
   "execution_count": 2,
   "id": "e50d1fea-7373-465e-a5cc-fb69d5a60e60",
   "metadata": {
    "tags": []
   },
   "outputs": [],
   "source": [
    "relatedness_path = \"Metrics/UMNSRS_relatedness.csv\"\n",
    "similarity_path = \"Metrics/UMNSRS_similarity.csv\""
   ]
  },
  {
   "cell_type": "code",
   "execution_count": 3,
   "id": "1aca95bd-6625-4eed-99f1-a43830bf6b59",
   "metadata": {
    "tags": []
   },
   "outputs": [],
   "source": [
    "df_rel = pd.read_csv(relatedness_path)\n",
    "df_sim = pd.read_csv(similarity_path)"
   ]
  },
  {
   "cell_type": "code",
   "execution_count": 26,
   "id": "bf62c524-aa4e-4be6-a653-890df1776dff",
   "metadata": {
    "tags": []
   },
   "outputs": [
    {
     "data": {
      "text/html": [
       "<div>\n",
       "<style scoped>\n",
       "    .dataframe tbody tr th:only-of-type {\n",
       "        vertical-align: middle;\n",
       "    }\n",
       "\n",
       "    .dataframe tbody tr th {\n",
       "        vertical-align: top;\n",
       "    }\n",
       "\n",
       "    .dataframe thead th {\n",
       "        text-align: right;\n",
       "    }\n",
       "</style>\n",
       "<table border=\"1\" class=\"dataframe\">\n",
       "  <thead>\n",
       "    <tr style=\"text-align: right;\">\n",
       "      <th></th>\n",
       "      <th>Mean</th>\n",
       "      <th>Stdev</th>\n",
       "      <th>Term1</th>\n",
       "      <th>Term2</th>\n",
       "      <th>CUI1</th>\n",
       "      <th>CUI2</th>\n",
       "    </tr>\n",
       "  </thead>\n",
       "  <tbody>\n",
       "    <tr>\n",
       "      <th>539</th>\n",
       "      <td>1575.00</td>\n",
       "      <td>112.011904</td>\n",
       "      <td>Sinemet</td>\n",
       "      <td>Sinemet</td>\n",
       "      <td>C0023570</td>\n",
       "      <td>C0006982</td>\n",
       "    </tr>\n",
       "    <tr>\n",
       "      <th>242</th>\n",
       "      <td>1550.50</td>\n",
       "      <td>105.922928</td>\n",
       "      <td>Iron</td>\n",
       "      <td>Iron</td>\n",
       "      <td>C0060277</td>\n",
       "      <td>C0060277</td>\n",
       "    </tr>\n",
       "    <tr>\n",
       "      <th>118</th>\n",
       "      <td>1514.50</td>\n",
       "      <td>111.147050</td>\n",
       "      <td>Ethanol</td>\n",
       "      <td>Alcohol</td>\n",
       "      <td>C0001962</td>\n",
       "      <td>C0001975</td>\n",
       "    </tr>\n",
       "    <tr>\n",
       "      <th>284</th>\n",
       "      <td>1511.00</td>\n",
       "      <td>121.701821</td>\n",
       "      <td>Heartburn</td>\n",
       "      <td>Protonix</td>\n",
       "      <td>C0018834</td>\n",
       "      <td>C0081876</td>\n",
       "    </tr>\n",
       "    <tr>\n",
       "      <th>57</th>\n",
       "      <td>1485.00</td>\n",
       "      <td>81.698633</td>\n",
       "      <td>Diabetes</td>\n",
       "      <td>Insulin</td>\n",
       "      <td>C0011847</td>\n",
       "      <td>C0021641</td>\n",
       "    </tr>\n",
       "    <tr>\n",
       "      <th>...</th>\n",
       "      <td>...</td>\n",
       "      <td>...</td>\n",
       "      <td>...</td>\n",
       "      <td>...</td>\n",
       "      <td>...</td>\n",
       "      <td>...</td>\n",
       "    </tr>\n",
       "    <tr>\n",
       "      <th>546</th>\n",
       "      <td>241.50</td>\n",
       "      <td>45.037022</td>\n",
       "      <td>Mannitol</td>\n",
       "      <td>Tylenol</td>\n",
       "      <td>C0024730</td>\n",
       "      <td>C0000970</td>\n",
       "    </tr>\n",
       "    <tr>\n",
       "      <th>187</th>\n",
       "      <td>239.00</td>\n",
       "      <td>103.166532</td>\n",
       "      <td>Hernias</td>\n",
       "      <td>Earache</td>\n",
       "      <td>C0019270</td>\n",
       "      <td>C0013456</td>\n",
       "    </tr>\n",
       "    <tr>\n",
       "      <th>561</th>\n",
       "      <td>226.75</td>\n",
       "      <td>72.034135</td>\n",
       "      <td>Giardiasis</td>\n",
       "      <td>Mannerism</td>\n",
       "      <td>C0017536</td>\n",
       "      <td>C0233576</td>\n",
       "    </tr>\n",
       "    <tr>\n",
       "      <th>449</th>\n",
       "      <td>221.00</td>\n",
       "      <td>112.933609</td>\n",
       "      <td>Snoring</td>\n",
       "      <td>Welts</td>\n",
       "      <td>C0037384</td>\n",
       "      <td>C0221232</td>\n",
       "    </tr>\n",
       "    <tr>\n",
       "      <th>554</th>\n",
       "      <td>215.50</td>\n",
       "      <td>31.288976</td>\n",
       "      <td>Dementia</td>\n",
       "      <td>Aloe Vera</td>\n",
       "      <td>C0497327</td>\n",
       "      <td>C0995182</td>\n",
       "    </tr>\n",
       "  </tbody>\n",
       "</table>\n",
       "<p>587 rows × 6 columns</p>\n",
       "</div>"
      ],
      "text/plain": [
       "        Mean       Stdev       Term1      Term2      CUI1      CUI2\n",
       "539  1575.00  112.011904     Sinemet    Sinemet  C0023570  C0006982\n",
       "242  1550.50  105.922928        Iron       Iron  C0060277  C0060277\n",
       "118  1514.50  111.147050     Ethanol    Alcohol  C0001962  C0001975\n",
       "284  1511.00  121.701821   Heartburn   Protonix  C0018834  C0081876\n",
       "57   1485.00   81.698633    Diabetes    Insulin  C0011847  C0021641\n",
       "..       ...         ...         ...        ...       ...       ...\n",
       "546   241.50   45.037022    Mannitol    Tylenol  C0024730  C0000970\n",
       "187   239.00  103.166532     Hernias    Earache  C0019270  C0013456\n",
       "561   226.75   72.034135  Giardiasis  Mannerism  C0017536  C0233576\n",
       "449   221.00  112.933609     Snoring      Welts  C0037384  C0221232\n",
       "554   215.50   31.288976    Dementia  Aloe Vera  C0497327  C0995182\n",
       "\n",
       "[587 rows x 6 columns]"
      ]
     },
     "execution_count": 26,
     "metadata": {},
     "output_type": "execute_result"
    }
   ],
   "source": [
    "df_rel = df_rel.sort_values(by=\"Mean\",ascending=False)\n",
    "df_rel"
   ]
  },
  {
   "cell_type": "code",
   "execution_count": 27,
   "id": "b2671edb-16ad-4629-ba69-2522e02c3e21",
   "metadata": {
    "tags": []
   },
   "outputs": [
    {
     "data": {
      "text/html": [
       "<div>\n",
       "<style scoped>\n",
       "    .dataframe tbody tr th:only-of-type {\n",
       "        vertical-align: middle;\n",
       "    }\n",
       "\n",
       "    .dataframe tbody tr th {\n",
       "        vertical-align: top;\n",
       "    }\n",
       "\n",
       "    .dataframe thead th {\n",
       "        text-align: right;\n",
       "    }\n",
       "</style>\n",
       "<table border=\"1\" class=\"dataframe\">\n",
       "  <thead>\n",
       "    <tr style=\"text-align: right;\">\n",
       "      <th></th>\n",
       "      <th>Mean</th>\n",
       "      <th>Stdev</th>\n",
       "      <th>Term1</th>\n",
       "      <th>Term2</th>\n",
       "      <th>CUI1</th>\n",
       "      <th>CUI2</th>\n",
       "    </tr>\n",
       "  </thead>\n",
       "  <tbody>\n",
       "    <tr>\n",
       "      <th>517</th>\n",
       "      <td>1533.50</td>\n",
       "      <td>103.319892</td>\n",
       "      <td>Sinemet</td>\n",
       "      <td>Sinemet</td>\n",
       "      <td>C0023570</td>\n",
       "      <td>C0006982</td>\n",
       "    </tr>\n",
       "    <tr>\n",
       "      <th>239</th>\n",
       "      <td>1395.00</td>\n",
       "      <td>394.634852</td>\n",
       "      <td>Iron</td>\n",
       "      <td>Iron</td>\n",
       "      <td>C0060277</td>\n",
       "      <td>C0060277</td>\n",
       "    </tr>\n",
       "    <tr>\n",
       "      <th>364</th>\n",
       "      <td>1387.50</td>\n",
       "      <td>187.434433</td>\n",
       "      <td>Medrol</td>\n",
       "      <td>Prednisolone</td>\n",
       "      <td>C0025815</td>\n",
       "      <td>C0032950</td>\n",
       "    </tr>\n",
       "    <tr>\n",
       "      <th>424</th>\n",
       "      <td>1330.75</td>\n",
       "      <td>69.452022</td>\n",
       "      <td>Lipitor</td>\n",
       "      <td>Zocor</td>\n",
       "      <td>C0286651</td>\n",
       "      <td>C0074554</td>\n",
       "    </tr>\n",
       "    <tr>\n",
       "      <th>76</th>\n",
       "      <td>1323.00</td>\n",
       "      <td>259.292627</td>\n",
       "      <td>Cefazolin</td>\n",
       "      <td>Keflex</td>\n",
       "      <td>C0007546</td>\n",
       "      <td>C0007716</td>\n",
       "    </tr>\n",
       "    <tr>\n",
       "      <th>...</th>\n",
       "      <td>...</td>\n",
       "      <td>...</td>\n",
       "      <td>...</td>\n",
       "      <td>...</td>\n",
       "      <td>...</td>\n",
       "      <td>...</td>\n",
       "    </tr>\n",
       "    <tr>\n",
       "      <th>291</th>\n",
       "      <td>161.00</td>\n",
       "      <td>115.646012</td>\n",
       "      <td>Constipation</td>\n",
       "      <td>Diarrhea</td>\n",
       "      <td>C0009806</td>\n",
       "      <td>C0011991</td>\n",
       "    </tr>\n",
       "    <tr>\n",
       "      <th>266</th>\n",
       "      <td>160.75</td>\n",
       "      <td>116.762936</td>\n",
       "      <td>Overnutrition</td>\n",
       "      <td>Malnutrition</td>\n",
       "      <td>C1257763</td>\n",
       "      <td>C0162429</td>\n",
       "    </tr>\n",
       "    <tr>\n",
       "      <th>539</th>\n",
       "      <td>152.75</td>\n",
       "      <td>91.638329</td>\n",
       "      <td>Giardiasis</td>\n",
       "      <td>Mannerism</td>\n",
       "      <td>C0017536</td>\n",
       "      <td>C0233576</td>\n",
       "    </tr>\n",
       "    <tr>\n",
       "      <th>184</th>\n",
       "      <td>145.50</td>\n",
       "      <td>102.321389</td>\n",
       "      <td>Starvation</td>\n",
       "      <td>Mittelschmerz</td>\n",
       "      <td>C0038187</td>\n",
       "      <td>C0152149</td>\n",
       "    </tr>\n",
       "    <tr>\n",
       "      <th>3</th>\n",
       "      <td>142.50</td>\n",
       "      <td>48.445846</td>\n",
       "      <td>Herpes</td>\n",
       "      <td>Hyperthyroidism</td>\n",
       "      <td>C0019340</td>\n",
       "      <td>C0020550</td>\n",
       "    </tr>\n",
       "  </tbody>\n",
       "</table>\n",
       "<p>566 rows × 6 columns</p>\n",
       "</div>"
      ],
      "text/plain": [
       "        Mean       Stdev          Term1            Term2      CUI1      CUI2\n",
       "517  1533.50  103.319892        Sinemet          Sinemet  C0023570  C0006982\n",
       "239  1395.00  394.634852           Iron             Iron  C0060277  C0060277\n",
       "364  1387.50  187.434433         Medrol     Prednisolone  C0025815  C0032950\n",
       "424  1330.75   69.452022        Lipitor            Zocor  C0286651  C0074554\n",
       "76   1323.00  259.292627      Cefazolin           Keflex  C0007546  C0007716\n",
       "..       ...         ...            ...              ...       ...       ...\n",
       "291   161.00  115.646012   Constipation         Diarrhea  C0009806  C0011991\n",
       "266   160.75  116.762936  Overnutrition     Malnutrition  C1257763  C0162429\n",
       "539   152.75   91.638329     Giardiasis        Mannerism  C0017536  C0233576\n",
       "184   145.50  102.321389     Starvation    Mittelschmerz  C0038187  C0152149\n",
       "3     142.50   48.445846         Herpes  Hyperthyroidism  C0019340  C0020550\n",
       "\n",
       "[566 rows x 6 columns]"
      ]
     },
     "execution_count": 27,
     "metadata": {},
     "output_type": "execute_result"
    }
   ],
   "source": [
    "df_sim = df_sim.sort_values(by=\"Mean\",ascending=False)\n",
    "df_sim"
   ]
  },
  {
   "cell_type": "code",
   "execution_count": 28,
   "id": "48ffef92-b6f3-422e-9ff1-ba5f1cb95a94",
   "metadata": {
    "tags": []
   },
   "outputs": [],
   "source": [
    "relatedness_rankings = []\n",
    "for index, row in enumerate(df_rel.itertuples()):\n",
    "    relatedness_rankings.append( (index+1,row[5],row[6],row[3],row[4]) )"
   ]
  },
  {
   "cell_type": "code",
   "execution_count": 29,
   "id": "7d7b5911-7775-43ef-94ff-2ad36b872373",
   "metadata": {
    "tags": []
   },
   "outputs": [],
   "source": [
    "similarity_rankings = []\n",
    "for index, row in enumerate(df_sim.itertuples()):\n",
    "    similarity_rankings.append( (index+1,row[5],row[6],row[3],row[4]) )"
   ]
  },
  {
   "cell_type": "code",
   "execution_count": 30,
   "id": "0c7adf93-7fb0-4288-a07d-8aaa8081a132",
   "metadata": {
    "tags": []
   },
   "outputs": [
    {
     "data": {
      "text/plain": [
       "[(578, 'C0013456', 'C0233212', 'Earache', 'Crowning'),\n",
       " (579, 'C0276185', 'C0037384', 'Camelpox', 'Snoring'),\n",
       " (580, 'C1998461', 'C0040485', 'Allergy.', 'Torticollis'),\n",
       " (581, 'C0086543', 'C0027358', 'Cataracts', 'Narcan'),\n",
       " (582, 'C0149651', 'C0885057', 'Clubbing', 'Garlic'),\n",
       " (583, 'C0024730', 'C0000970', 'Mannitol', 'Tylenol'),\n",
       " (584, 'C0019270', 'C0013456', 'Hernias', 'Earache'),\n",
       " (585, 'C0017536', 'C0233576', 'Giardiasis', 'Mannerism'),\n",
       " (586, 'C0037384', 'C0221232', 'Snoring', 'Welts'),\n",
       " (587, 'C0497327', 'C0995182', 'Dementia', 'Aloe Vera')]"
      ]
     },
     "execution_count": 30,
     "metadata": {},
     "output_type": "execute_result"
    }
   ],
   "source": [
    "relatedness_rankings[-10:]"
   ]
  },
  {
   "cell_type": "code",
   "execution_count": 31,
   "id": "605f19fa-460e-423b-97d8-472cb5825c5e",
   "metadata": {
    "tags": []
   },
   "outputs": [
    {
     "data": {
      "text/plain": [
       "[(557, 'C0033860', 'C0004153', 'Psoriasis', 'Atherosclerosis'),\n",
       " (558, 'C0684275', 'C0017642', 'Hemophilia', 'Glucotrol'),\n",
       " (559, 'C0149651', 'C0009806', 'Clubbing', 'Constipation'),\n",
       " (560, 'C0036572', 'C0995182', 'Seizures', 'Aloe Vera'),\n",
       " (561, 'C0009319', 'C0014544', 'Colitis', 'Epilepsy'),\n",
       " (562, 'C0009806', 'C0011991', 'Constipation', 'Diarrhea'),\n",
       " (563, 'C1257763', 'C0162429', 'Overnutrition', 'Malnutrition'),\n",
       " (564, 'C0017536', 'C0233576', 'Giardiasis', 'Mannerism'),\n",
       " (565, 'C0038187', 'C0152149', 'Starvation', 'Mittelschmerz'),\n",
       " (566, 'C0019340', 'C0020550', 'Herpes', 'Hyperthyroidism')]"
      ]
     },
     "execution_count": 31,
     "metadata": {},
     "output_type": "execute_result"
    }
   ],
   "source": [
    "similarity_rankings[-10:]"
   ]
  },
  {
   "cell_type": "code",
   "execution_count": 32,
   "id": "26eef74d-e92c-4cc4-8fae-cddd9172c747",
   "metadata": {
    "tags": []
   },
   "outputs": [],
   "source": [
    "df1 = pd.DataFrame(relatedness_rankings,columns=[\"Ranking\",\"CUI1\",\"CUI2\",\"Term1\",\"Term2\"])"
   ]
  },
  {
   "cell_type": "code",
   "execution_count": 33,
   "id": "022194e3-4b60-4321-a52b-309a53768770",
   "metadata": {
    "tags": []
   },
   "outputs": [],
   "source": [
    "df2 = pd.DataFrame(similarity_rankings,columns=[\"Ranking\",\"CUI1\",\"CUI2\",\"Term1\",\"Term2\"])"
   ]
  },
  {
   "cell_type": "code",
   "execution_count": 34,
   "id": "6b136ced-3c1a-4f70-9724-638772dfa7a9",
   "metadata": {
    "tags": []
   },
   "outputs": [],
   "source": [
    "df1.to_csv(\"relatedness_rankings.csv\")\n",
    "df2.to_csv(\"similarity_rankings.csv\")"
   ]
  }
 ],
 "metadata": {
  "kernelspec": {
   "display_name": "Python 3 (ipykernel)",
   "language": "python",
   "name": "python3"
  },
  "language_info": {
   "codemirror_mode": {
    "name": "ipython",
    "version": 3
   },
   "file_extension": ".py",
   "mimetype": "text/x-python",
   "name": "python",
   "nbconvert_exporter": "python",
   "pygments_lexer": "ipython3",
   "version": "3.10.11"
  }
 },
 "nbformat": 4,
 "nbformat_minor": 5
}
