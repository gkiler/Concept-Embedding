{
 "cells": [
  {
   "cell_type": "code",
   "execution_count": 7,
   "id": "3926020f-f2f2-477a-8692-c10aeb07ae98",
   "metadata": {
    "tags": []
   },
   "outputs": [],
   "source": [
    "import os\n",
    "os.getcwd()\n",
    "os.chdir(\"C:\\\\Users\\\\gwenk\\\\OneDrive\\\\Documents\\\\Research\\\\Scraping\")"
   ]
  },
  {
   "cell_type": "code",
   "execution_count": 8,
   "id": "44a151c6",
   "metadata": {
    "tags": []
   },
   "outputs": [],
   "source": [
    "from umlsparser import UMLSParser"
   ]
  },
  {
   "cell_type": "code",
   "execution_count": 10,
   "id": "348f63ce",
   "metadata": {},
   "outputs": [
    {
     "name": "stderr",
     "output_type": "stream",
     "text": [
      "INFO:umlsparser.UMLSParser:Initialising UMLSParser for basepath C:\\Users\\gwenk\\OneDrive\\Documents\\Research\\Scraping\\2022AB\n",
      "INFO:umlsparser.UMLSParser:Language filtering for ENG\n"
     ]
    },
    {
     "name": "stdout",
     "output_type": "stream",
     "text": [
      "Loading new UMLS Data from files...\n"
     ]
    },
    {
     "name": "stderr",
     "output_type": "stream",
     "text": [
      "Parsing UMLS concepts (MRCONSO.RRF): 17213334it [20:01, 14321.18it/s] \n",
      "INFO:umlsparser.UMLSParser:Found 4661936 unique CUIs\n",
      "Parsing UMLS definitions (MRDEF.RRF): 421577it [00:06, 63409.22it/s] \n",
      "Parsing UMLS semantic types (MRSTY.RRF): 4994032it [00:27, 180880.30it/s]\n"
     ]
    }
   ],
   "source": [
    "print('Loading new UMLS Data from files...')\n",
    "umls = UMLSParser('C:\\\\Users\\\\gwenk\\\\OneDrive\\\\Documents\\\\Research\\\\Scraping\\\\2022AB')\n",
    "CUIDict = umls.get_concepts()\n",
    "\n",
    "# CUIDefs = []\n",
    "# CUINameDict = []\n",
    "# NameToCUI = []\n",
    "# CUIList = []\n",
    "# print('Shaping dictionary')\n",
    "# for cui in CUIDict:\n",
    "#     CUIList.append((cui,CUIDict[cui].get_definitions()))"
   ]
  },
  {
   "cell_type": "code",
   "execution_count": null,
   "id": "7b53bd23",
   "metadata": {},
   "outputs": [],
   "source": [
    "clinical_drug_tui = 'T195'\n",
    "# clinical_drug_name = umls.get_semantic_types()[clinical_drug_tui].get_name()\n",
    "\n",
    "# iterate over all concepts and print only those with the \"Clinical Drug\" semantic type\n",
    "for cui, concept in umls.get_concepts().items():\n",
    "    tui = concept.get_tui()\n",
    "    if tui is not None:\n",
    "        print(tui)\n",
    "        break\n",
    "    "
   ]
  },
  {
   "cell_type": "code",
   "execution_count": null,
   "id": "4b0c1e68",
   "metadata": {},
   "outputs": [],
   "source": [
    "# iterate over all concepts and print only those with the \"Clinical Drug\" semantic type\n",
    "for cui, concept in umls.get_concepts().items():\n",
    "    tui = concept.get_tui()\n",
    "    if tui == clinical_drug_tui:\n",
    "        for name in concept.get_names_for_language('ENG'):\n",
    "            print(cui, name, tui, clinical_drug_name)"
   ]
  },
  {
   "cell_type": "code",
   "execution_count": null,
   "id": "b237032d",
   "metadata": {},
   "outputs": [],
   "source": [
    "import pandas as pd"
   ]
  },
  {
   "cell_type": "code",
   "execution_count": null,
   "id": "cc6ed621",
   "metadata": {},
   "outputs": [],
   "source": [
    "df = pd.DataFrame(CUIList,columns=['CUI','Summary'])"
   ]
  },
  {
   "cell_type": "code",
   "execution_count": null,
   "id": "428638c4",
   "metadata": {},
   "outputs": [],
   "source": [
    "df.iloc[1][\"Summary\"]"
   ]
  },
  {
   "cell_type": "code",
   "execution_count": null,
   "id": "bf5add1b",
   "metadata": {},
   "outputs": [],
   "source": [
    "def concatenate_set(s):\n",
    "    str_set = set()\n",
    "    for x in s:\n",
    "        if isinstance(x, tuple):\n",
    "            str_set.add('. '.join([str(e) for e in x]))\n",
    "        else:\n",
    "            str_set.add(str(x))\n",
    "    return ''.join(str_set)"
   ]
  },
  {
   "cell_type": "code",
   "execution_count": null,
   "id": "75fdbd47",
   "metadata": {},
   "outputs": [],
   "source": [
    "dft = df\n",
    "dft['Summary'] = df['Summary'].apply(concatenate_set)"
   ]
  },
  {
   "cell_type": "code",
   "execution_count": null,
   "id": "bea427ad",
   "metadata": {},
   "outputs": [],
   "source": [
    "dft = dft[dft.Summary != '']"
   ]
  },
  {
   "cell_type": "code",
   "execution_count": null,
   "id": "4bfb2d99",
   "metadata": {},
   "outputs": [],
   "source": [
    "dft.iloc[17368]"
   ]
  },
  {
   "cell_type": "code",
   "execution_count": null,
   "id": "64066c36",
   "metadata": {},
   "outputs": [],
   "source": [
    "dft.to_csv('UMLSData.csv')"
   ]
  }
 ],
 "metadata": {
  "kernelspec": {
   "display_name": "Python 3 (ipykernel)",
   "language": "python",
   "name": "python3"
  },
  "language_info": {
   "codemirror_mode": {
    "name": "ipython",
    "version": 3
   },
   "file_extension": ".py",
   "mimetype": "text/x-python",
   "name": "python",
   "nbconvert_exporter": "python",
   "pygments_lexer": "ipython3",
   "version": "3.10.11"
  }
 },
 "nbformat": 4,
 "nbformat_minor": 5
}
